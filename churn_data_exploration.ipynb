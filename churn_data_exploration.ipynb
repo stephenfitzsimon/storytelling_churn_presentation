{
 "cells": [
  {
   "cell_type": "markdown",
   "id": "06b561ae",
   "metadata": {},
   "source": [
    "# Exploration of churn data\n",
    "Goals:\n",
    "1. load data and make sure it is clean\n",
    "2. split data into churned and non-churned data\n",
    "3. characterize the subsets of the data"
   ]
  },
  {
   "cell_type": "code",
   "execution_count": 1,
   "id": "dc281be9",
   "metadata": {},
   "outputs": [],
   "source": [
    "# import modules and data\n",
    "import pandas as pd\n",
    "import seaborn as sns\n",
    "import matplotlib.pyplot as plt"
   ]
  },
  {
   "cell_type": "code",
   "execution_count": 2,
   "id": "1d1d6ad8",
   "metadata": {},
   "outputs": [],
   "source": [
    "df_telco = pd.read_csv('churn_data.csv')"
   ]
  },
  {
   "cell_type": "code",
   "execution_count": 3,
   "id": "35630f09",
   "metadata": {},
   "outputs": [
    {
     "data": {
      "text/html": [
       "<div>\n",
       "<style scoped>\n",
       "    .dataframe tbody tr th:only-of-type {\n",
       "        vertical-align: middle;\n",
       "    }\n",
       "\n",
       "    .dataframe tbody tr th {\n",
       "        vertical-align: top;\n",
       "    }\n",
       "\n",
       "    .dataframe thead th {\n",
       "        text-align: right;\n",
       "    }\n",
       "</style>\n",
       "<table border=\"1\" class=\"dataframe\">\n",
       "  <thead>\n",
       "    <tr style=\"text-align: right;\">\n",
       "      <th></th>\n",
       "      <th>customer_id</th>\n",
       "      <th>gender</th>\n",
       "      <th>is_senior_citizen</th>\n",
       "      <th>partner</th>\n",
       "      <th>dependents</th>\n",
       "      <th>phone_service</th>\n",
       "      <th>internet_service</th>\n",
       "      <th>contract_type</th>\n",
       "      <th>payment_type</th>\n",
       "      <th>monthly_charges</th>\n",
       "      <th>...</th>\n",
       "      <th>has_churned</th>\n",
       "      <th>has_phone</th>\n",
       "      <th>has_internet</th>\n",
       "      <th>has_phone_and_internet</th>\n",
       "      <th>partner_dependents</th>\n",
       "      <th>avg_monthly_charges</th>\n",
       "      <th>avg_bool_check</th>\n",
       "      <th>contract_type.1</th>\n",
       "      <th>phone_type</th>\n",
       "      <th>internet_type</th>\n",
       "    </tr>\n",
       "  </thead>\n",
       "  <tbody>\n",
       "    <tr>\n",
       "      <th>0</th>\n",
       "      <td>0002-ORFBO</td>\n",
       "      <td>Female</td>\n",
       "      <td>0</td>\n",
       "      <td>Yes</td>\n",
       "      <td>Yes</td>\n",
       "      <td>1</td>\n",
       "      <td>1</td>\n",
       "      <td>1</td>\n",
       "      <td>Mailed check</td>\n",
       "      <td>65.60</td>\n",
       "      <td>...</td>\n",
       "      <td>False</td>\n",
       "      <td>True</td>\n",
       "      <td>True</td>\n",
       "      <td>True</td>\n",
       "      <td>3</td>\n",
       "      <td>65.6</td>\n",
       "      <td>TRUE</td>\n",
       "      <td>1 Year</td>\n",
       "      <td>One Line</td>\n",
       "      <td>DSL</td>\n",
       "    </tr>\n",
       "    <tr>\n",
       "      <th>1</th>\n",
       "      <td>0003-MKNFE</td>\n",
       "      <td>Male</td>\n",
       "      <td>0</td>\n",
       "      <td>No</td>\n",
       "      <td>No</td>\n",
       "      <td>2</td>\n",
       "      <td>1</td>\n",
       "      <td>0</td>\n",
       "      <td>Mailed check</td>\n",
       "      <td>59.90</td>\n",
       "      <td>...</td>\n",
       "      <td>False</td>\n",
       "      <td>True</td>\n",
       "      <td>True</td>\n",
       "      <td>True</td>\n",
       "      <td>0</td>\n",
       "      <td>59.9</td>\n",
       "      <td>TRUE</td>\n",
       "      <td>Month-to-Month</td>\n",
       "      <td>Two or More Lines</td>\n",
       "      <td>Fiber Optic</td>\n",
       "    </tr>\n",
       "    <tr>\n",
       "      <th>2</th>\n",
       "      <td>0004-TLHLJ</td>\n",
       "      <td>Male</td>\n",
       "      <td>0</td>\n",
       "      <td>No</td>\n",
       "      <td>No</td>\n",
       "      <td>1</td>\n",
       "      <td>2</td>\n",
       "      <td>0</td>\n",
       "      <td>Electronic check</td>\n",
       "      <td>73.90</td>\n",
       "      <td>...</td>\n",
       "      <td>True</td>\n",
       "      <td>True</td>\n",
       "      <td>True</td>\n",
       "      <td>True</td>\n",
       "      <td>0</td>\n",
       "      <td>73.9</td>\n",
       "      <td>TRUE</td>\n",
       "      <td>Month-to-Month</td>\n",
       "      <td>One Line</td>\n",
       "      <td>DSL</td>\n",
       "    </tr>\n",
       "    <tr>\n",
       "      <th>3</th>\n",
       "      <td>0011-IGKFF</td>\n",
       "      <td>Male</td>\n",
       "      <td>1</td>\n",
       "      <td>Yes</td>\n",
       "      <td>No</td>\n",
       "      <td>1</td>\n",
       "      <td>2</td>\n",
       "      <td>0</td>\n",
       "      <td>Electronic check</td>\n",
       "      <td>98.00</td>\n",
       "      <td>...</td>\n",
       "      <td>True</td>\n",
       "      <td>True</td>\n",
       "      <td>True</td>\n",
       "      <td>True</td>\n",
       "      <td>1</td>\n",
       "      <td>98</td>\n",
       "      <td>TRUE</td>\n",
       "      <td>Month-to-Month</td>\n",
       "      <td>One Line</td>\n",
       "      <td>DSL</td>\n",
       "    </tr>\n",
       "    <tr>\n",
       "      <th>4</th>\n",
       "      <td>0013-EXCHZ</td>\n",
       "      <td>Female</td>\n",
       "      <td>1</td>\n",
       "      <td>Yes</td>\n",
       "      <td>No</td>\n",
       "      <td>1</td>\n",
       "      <td>2</td>\n",
       "      <td>0</td>\n",
       "      <td>Mailed check</td>\n",
       "      <td>83.90</td>\n",
       "      <td>...</td>\n",
       "      <td>True</td>\n",
       "      <td>True</td>\n",
       "      <td>True</td>\n",
       "      <td>True</td>\n",
       "      <td>1</td>\n",
       "      <td>83.9</td>\n",
       "      <td>TRUE</td>\n",
       "      <td>Month-to-Month</td>\n",
       "      <td>One Line</td>\n",
       "      <td>DSL</td>\n",
       "    </tr>\n",
       "    <tr>\n",
       "      <th>...</th>\n",
       "      <td>...</td>\n",
       "      <td>...</td>\n",
       "      <td>...</td>\n",
       "      <td>...</td>\n",
       "      <td>...</td>\n",
       "      <td>...</td>\n",
       "      <td>...</td>\n",
       "      <td>...</td>\n",
       "      <td>...</td>\n",
       "      <td>...</td>\n",
       "      <td>...</td>\n",
       "      <td>...</td>\n",
       "      <td>...</td>\n",
       "      <td>...</td>\n",
       "      <td>...</td>\n",
       "      <td>...</td>\n",
       "      <td>...</td>\n",
       "      <td>...</td>\n",
       "      <td>...</td>\n",
       "      <td>...</td>\n",
       "      <td>...</td>\n",
       "    </tr>\n",
       "    <tr>\n",
       "      <th>7044</th>\n",
       "      <td>9987-LUTYD</td>\n",
       "      <td>Female</td>\n",
       "      <td>0</td>\n",
       "      <td>No</td>\n",
       "      <td>No</td>\n",
       "      <td>1</td>\n",
       "      <td>1</td>\n",
       "      <td>1</td>\n",
       "      <td>Mailed check</td>\n",
       "      <td>55.15</td>\n",
       "      <td>...</td>\n",
       "      <td>False</td>\n",
       "      <td>True</td>\n",
       "      <td>True</td>\n",
       "      <td>True</td>\n",
       "      <td>0</td>\n",
       "      <td>55.15</td>\n",
       "      <td>TRUE</td>\n",
       "      <td>1 Year</td>\n",
       "      <td>One Line</td>\n",
       "      <td>DSL</td>\n",
       "    </tr>\n",
       "    <tr>\n",
       "      <th>7045</th>\n",
       "      <td>9992-RRAMN</td>\n",
       "      <td>Male</td>\n",
       "      <td>0</td>\n",
       "      <td>Yes</td>\n",
       "      <td>No</td>\n",
       "      <td>2</td>\n",
       "      <td>2</td>\n",
       "      <td>0</td>\n",
       "      <td>Electronic check</td>\n",
       "      <td>85.10</td>\n",
       "      <td>...</td>\n",
       "      <td>True</td>\n",
       "      <td>True</td>\n",
       "      <td>True</td>\n",
       "      <td>True</td>\n",
       "      <td>1</td>\n",
       "      <td>85.1</td>\n",
       "      <td>TRUE</td>\n",
       "      <td>Month-to-Month</td>\n",
       "      <td>Two or More Lines</td>\n",
       "      <td>Fiber Optic</td>\n",
       "    </tr>\n",
       "    <tr>\n",
       "      <th>7046</th>\n",
       "      <td>9992-UJOEL</td>\n",
       "      <td>Male</td>\n",
       "      <td>0</td>\n",
       "      <td>No</td>\n",
       "      <td>No</td>\n",
       "      <td>1</td>\n",
       "      <td>1</td>\n",
       "      <td>0</td>\n",
       "      <td>Mailed check</td>\n",
       "      <td>50.30</td>\n",
       "      <td>...</td>\n",
       "      <td>False</td>\n",
       "      <td>True</td>\n",
       "      <td>True</td>\n",
       "      <td>True</td>\n",
       "      <td>0</td>\n",
       "      <td>50.3</td>\n",
       "      <td>TRUE</td>\n",
       "      <td>Month-to-Month</td>\n",
       "      <td>One Line</td>\n",
       "      <td>DSL</td>\n",
       "    </tr>\n",
       "    <tr>\n",
       "      <th>7047</th>\n",
       "      <td>9993-LHIEB</td>\n",
       "      <td>Male</td>\n",
       "      <td>0</td>\n",
       "      <td>Yes</td>\n",
       "      <td>Yes</td>\n",
       "      <td>1</td>\n",
       "      <td>1</td>\n",
       "      <td>2</td>\n",
       "      <td>Mailed check</td>\n",
       "      <td>67.85</td>\n",
       "      <td>...</td>\n",
       "      <td>False</td>\n",
       "      <td>True</td>\n",
       "      <td>True</td>\n",
       "      <td>True</td>\n",
       "      <td>3</td>\n",
       "      <td>67.85</td>\n",
       "      <td>TRUE</td>\n",
       "      <td>2 Year</td>\n",
       "      <td>One Line</td>\n",
       "      <td>DSL</td>\n",
       "    </tr>\n",
       "    <tr>\n",
       "      <th>7048</th>\n",
       "      <td>9995-HOTOH</td>\n",
       "      <td>Male</td>\n",
       "      <td>0</td>\n",
       "      <td>Yes</td>\n",
       "      <td>Yes</td>\n",
       "      <td>0</td>\n",
       "      <td>1</td>\n",
       "      <td>2</td>\n",
       "      <td>Electronic check</td>\n",
       "      <td>59.00</td>\n",
       "      <td>...</td>\n",
       "      <td>False</td>\n",
       "      <td>False</td>\n",
       "      <td>True</td>\n",
       "      <td>False</td>\n",
       "      <td>3</td>\n",
       "      <td>59</td>\n",
       "      <td>TRUE</td>\n",
       "      <td>2 Year</td>\n",
       "      <td>No Phone Service</td>\n",
       "      <td>No Internet Service</td>\n",
       "    </tr>\n",
       "  </tbody>\n",
       "</table>\n",
       "<p>7049 rows × 26 columns</p>\n",
       "</div>"
      ],
      "text/plain": [
       "     customer_id  gender  is_senior_citizen partner dependents  phone_service  \\\n",
       "0     0002-ORFBO  Female                  0     Yes        Yes              1   \n",
       "1     0003-MKNFE    Male                  0      No         No              2   \n",
       "2     0004-TLHLJ    Male                  0      No         No              1   \n",
       "3     0011-IGKFF    Male                  1     Yes         No              1   \n",
       "4     0013-EXCHZ  Female                  1     Yes         No              1   \n",
       "...          ...     ...                ...     ...        ...            ...   \n",
       "7044  9987-LUTYD  Female                  0      No         No              1   \n",
       "7045  9992-RRAMN    Male                  0     Yes         No              2   \n",
       "7046  9992-UJOEL    Male                  0      No         No              1   \n",
       "7047  9993-LHIEB    Male                  0     Yes        Yes              1   \n",
       "7048  9995-HOTOH    Male                  0     Yes        Yes              0   \n",
       "\n",
       "      internet_service  contract_type      payment_type  monthly_charges  ...  \\\n",
       "0                    1              1      Mailed check            65.60  ...   \n",
       "1                    1              0      Mailed check            59.90  ...   \n",
       "2                    2              0  Electronic check            73.90  ...   \n",
       "3                    2              0  Electronic check            98.00  ...   \n",
       "4                    2              0      Mailed check            83.90  ...   \n",
       "...                ...            ...               ...              ...  ...   \n",
       "7044                 1              1      Mailed check            55.15  ...   \n",
       "7045                 2              0  Electronic check            85.10  ...   \n",
       "7046                 1              0      Mailed check            50.30  ...   \n",
       "7047                 1              2      Mailed check            67.85  ...   \n",
       "7048                 1              2  Electronic check            59.00  ...   \n",
       "\n",
       "      has_churned has_phone  has_internet  has_phone_and_internet  \\\n",
       "0           False      True          True                    True   \n",
       "1           False      True          True                    True   \n",
       "2            True      True          True                    True   \n",
       "3            True      True          True                    True   \n",
       "4            True      True          True                    True   \n",
       "...           ...       ...           ...                     ...   \n",
       "7044        False      True          True                    True   \n",
       "7045         True      True          True                    True   \n",
       "7046        False      True          True                    True   \n",
       "7047        False      True          True                    True   \n",
       "7048        False     False          True                   False   \n",
       "\n",
       "     partner_dependents  avg_monthly_charges  avg_bool_check  contract_type.1  \\\n",
       "0                     3                 65.6            TRUE           1 Year   \n",
       "1                     0                 59.9            TRUE   Month-to-Month   \n",
       "2                     0                 73.9            TRUE   Month-to-Month   \n",
       "3                     1                   98            TRUE   Month-to-Month   \n",
       "4                     1                 83.9            TRUE   Month-to-Month   \n",
       "...                 ...                  ...             ...              ...   \n",
       "7044                  0                55.15            TRUE           1 Year   \n",
       "7045                  1                 85.1            TRUE   Month-to-Month   \n",
       "7046                  0                 50.3            TRUE   Month-to-Month   \n",
       "7047                  3                67.85            TRUE           2 Year   \n",
       "7048                  3                   59            TRUE           2 Year   \n",
       "\n",
       "             phone_type        internet_type  \n",
       "0              One Line                  DSL  \n",
       "1     Two or More Lines          Fiber Optic  \n",
       "2              One Line                  DSL  \n",
       "3              One Line                  DSL  \n",
       "4              One Line                  DSL  \n",
       "...                 ...                  ...  \n",
       "7044           One Line                  DSL  \n",
       "7045  Two or More Lines          Fiber Optic  \n",
       "7046           One Line                  DSL  \n",
       "7047           One Line                  DSL  \n",
       "7048   No Phone Service  No Internet Service  \n",
       "\n",
       "[7049 rows x 26 columns]"
      ]
     },
     "execution_count": 3,
     "metadata": {},
     "output_type": "execute_result"
    }
   ],
   "source": [
    "df_telco"
   ]
  },
  {
   "cell_type": "code",
   "execution_count": 4,
   "id": "53e7560c",
   "metadata": {
    "scrolled": true
   },
   "outputs": [
    {
     "name": "stdout",
     "output_type": "stream",
     "text": [
      "<class 'pandas.core.frame.DataFrame'>\n",
      "RangeIndex: 7049 entries, 0 to 7048\n",
      "Data columns (total 26 columns):\n",
      " #   Column                  Non-Null Count  Dtype  \n",
      "---  ------                  --------------  -----  \n",
      " 0   customer_id             7049 non-null   object \n",
      " 1   gender                  7049 non-null   object \n",
      " 2   is_senior_citizen       7049 non-null   int64  \n",
      " 3   partner                 7049 non-null   object \n",
      " 4   dependents              7049 non-null   object \n",
      " 5   phone_service           7049 non-null   int64  \n",
      " 6   internet_service        7049 non-null   int64  \n",
      " 7   contract_type           7049 non-null   int64  \n",
      " 8   payment_type            7049 non-null   object \n",
      " 9   monthly_charges         7049 non-null   float64\n",
      " 10  total_charges           7038 non-null   float64\n",
      " 11  churn                   7049 non-null   object \n",
      " 12  tenure                  7049 non-null   float64\n",
      " 13  rounded_tenure          7049 non-null   float64\n",
      " 14  service_type            7049 non-null   object \n",
      " 15  is_female               7049 non-null   bool   \n",
      " 16  has_churned             7049 non-null   bool   \n",
      " 17  has_phone               7049 non-null   bool   \n",
      " 18  has_internet            7049 non-null   bool   \n",
      " 19  has_phone_and_internet  7049 non-null   bool   \n",
      " 20  partner_dependents      7049 non-null   int64  \n",
      " 21  avg_monthly_charges     7049 non-null   object \n",
      " 22  avg_bool_check          7049 non-null   object \n",
      " 23  contract_type.1         7049 non-null   object \n",
      " 24  phone_type              7049 non-null   object \n",
      " 25  internet_type           7049 non-null   object \n",
      "dtypes: bool(5), float64(4), int64(5), object(12)\n",
      "memory usage: 1.2+ MB\n"
     ]
    }
   ],
   "source": [
    "df_telco.info()"
   ]
  },
  {
   "cell_type": "markdown",
   "id": "0ad11199",
   "metadata": {},
   "source": [
    "Data looks pretty clean.  No rows have null data. But can drop some of the columns to clean the data a little.\n",
    "Justification for column drops:\n",
    "- is_female : just use gender\n",
    "- avg_monthly_charges : can be calculated easily\n",
    "- avg_bool_check : only a check on the calculation\n",
    "- contract_type, phone_service, internet_service : covered by contract_type1 (rename this as contract_type), phone_type, internet_type\n",
    "- rounded_tenure : was only used in the spreadsheets exercise\n",
    "- partner_dependents : covered by partner and dependents"
   ]
  },
  {
   "cell_type": "code",
   "execution_count": 5,
   "id": "c588891c",
   "metadata": {},
   "outputs": [],
   "source": [
    "df_telco.drop(columns = [\n",
    "    'is_female', \n",
    "    'avg_monthly_charges', \n",
    "    'avg_bool_check', \n",
    "    'contract_type', \n",
    "    'phone_service', \n",
    "    'internet_service',\n",
    "    'rounded_tenure',\n",
    "    'partner_dependents'\n",
    "], inplace = True)\n",
    "df_telco.rename(columns={'contract_type.1': 'contract_type'}, inplace=True)"
   ]
  },
  {
   "cell_type": "code",
   "execution_count": 6,
   "id": "0f06f21e",
   "metadata": {
    "scrolled": true
   },
   "outputs": [
    {
     "name": "stdout",
     "output_type": "stream",
     "text": [
      "<class 'pandas.core.frame.DataFrame'>\n",
      "RangeIndex: 7049 entries, 0 to 7048\n",
      "Data columns (total 20 columns):\n",
      " #   Column                  Non-Null Count  Dtype  \n",
      "---  ------                  --------------  -----  \n",
      " 0   customer_id             7049 non-null   object \n",
      " 1   gender                  7049 non-null   object \n",
      " 2   is_senior_citizen       7049 non-null   int64  \n",
      " 3   partner                 7049 non-null   object \n",
      " 4   dependents              7049 non-null   object \n",
      " 5   payment_type            7049 non-null   object \n",
      " 6   monthly_charges         7049 non-null   float64\n",
      " 7   total_charges           7038 non-null   float64\n",
      " 8   churn                   7049 non-null   object \n",
      " 9   tenure                  7049 non-null   float64\n",
      " 10  service_type            7049 non-null   object \n",
      " 11  has_churned             7049 non-null   bool   \n",
      " 12  has_phone               7049 non-null   bool   \n",
      " 13  has_internet            7049 non-null   bool   \n",
      " 14  has_phone_and_internet  7049 non-null   bool   \n",
      " 15  contract_type           7049 non-null   object \n",
      " 16  phone_type              7049 non-null   object \n",
      " 17  internet_type           7049 non-null   object \n",
      " 18  is_senior_bool          7049 non-null   bool   \n",
      " 19  automatic_payment       7049 non-null   bool   \n",
      "dtypes: bool(6), float64(3), int64(1), object(10)\n",
      "memory usage: 812.4+ KB\n"
     ]
    }
   ],
   "source": [
    "# add a boolean column for senior citizen\n",
    "df_telco['is_senior_bool'] = df_telco['is_senior_citizen']==1\n",
    "df_telco\n",
    "#make a column with automatic payment\n",
    "df_telco['automatic_payment'] = df_telco.payment_type.str.contains('automatic')\n",
    "df_telco\n",
    "df_telco.info()"
   ]
  },
  {
   "cell_type": "markdown",
   "id": "86cb5774",
   "metadata": {},
   "source": [
    "Split the data into customers who have churned one ones who have not.\n",
    "df_churned := customers who churned\n",
    "df_unchurned := customers who have not churned"
   ]
  },
  {
   "cell_type": "code",
   "execution_count": 7,
   "id": "cf3e5787",
   "metadata": {
    "scrolled": true
   },
   "outputs": [
    {
     "data": {
      "text/html": [
       "<div>\n",
       "<style scoped>\n",
       "    .dataframe tbody tr th:only-of-type {\n",
       "        vertical-align: middle;\n",
       "    }\n",
       "\n",
       "    .dataframe tbody tr th {\n",
       "        vertical-align: top;\n",
       "    }\n",
       "\n",
       "    .dataframe thead th {\n",
       "        text-align: right;\n",
       "    }\n",
       "</style>\n",
       "<table border=\"1\" class=\"dataframe\">\n",
       "  <thead>\n",
       "    <tr style=\"text-align: right;\">\n",
       "      <th></th>\n",
       "      <th>customer_id</th>\n",
       "      <th>gender</th>\n",
       "      <th>is_senior_citizen</th>\n",
       "      <th>partner</th>\n",
       "      <th>dependents</th>\n",
       "      <th>payment_type</th>\n",
       "      <th>monthly_charges</th>\n",
       "      <th>total_charges</th>\n",
       "      <th>churn</th>\n",
       "      <th>tenure</th>\n",
       "      <th>service_type</th>\n",
       "      <th>has_churned</th>\n",
       "      <th>has_phone</th>\n",
       "      <th>has_internet</th>\n",
       "      <th>has_phone_and_internet</th>\n",
       "      <th>contract_type</th>\n",
       "      <th>phone_type</th>\n",
       "      <th>internet_type</th>\n",
       "      <th>is_senior_bool</th>\n",
       "      <th>automatic_payment</th>\n",
       "    </tr>\n",
       "  </thead>\n",
       "  <tbody>\n",
       "    <tr>\n",
       "      <th>2</th>\n",
       "      <td>0004-TLHLJ</td>\n",
       "      <td>Male</td>\n",
       "      <td>0</td>\n",
       "      <td>No</td>\n",
       "      <td>No</td>\n",
       "      <td>Electronic check</td>\n",
       "      <td>73.90</td>\n",
       "      <td>280.85</td>\n",
       "      <td>Yes</td>\n",
       "      <td>3.8</td>\n",
       "      <td>internet+phone</td>\n",
       "      <td>True</td>\n",
       "      <td>True</td>\n",
       "      <td>True</td>\n",
       "      <td>True</td>\n",
       "      <td>Month-to-Month</td>\n",
       "      <td>One Line</td>\n",
       "      <td>DSL</td>\n",
       "      <td>False</td>\n",
       "      <td>False</td>\n",
       "    </tr>\n",
       "    <tr>\n",
       "      <th>3</th>\n",
       "      <td>0011-IGKFF</td>\n",
       "      <td>Male</td>\n",
       "      <td>1</td>\n",
       "      <td>Yes</td>\n",
       "      <td>No</td>\n",
       "      <td>Electronic check</td>\n",
       "      <td>98.00</td>\n",
       "      <td>1237.85</td>\n",
       "      <td>Yes</td>\n",
       "      <td>12.6</td>\n",
       "      <td>internet+phone</td>\n",
       "      <td>True</td>\n",
       "      <td>True</td>\n",
       "      <td>True</td>\n",
       "      <td>True</td>\n",
       "      <td>Month-to-Month</td>\n",
       "      <td>One Line</td>\n",
       "      <td>DSL</td>\n",
       "      <td>True</td>\n",
       "      <td>False</td>\n",
       "    </tr>\n",
       "    <tr>\n",
       "      <th>4</th>\n",
       "      <td>0013-EXCHZ</td>\n",
       "      <td>Female</td>\n",
       "      <td>1</td>\n",
       "      <td>Yes</td>\n",
       "      <td>No</td>\n",
       "      <td>Mailed check</td>\n",
       "      <td>83.90</td>\n",
       "      <td>267.40</td>\n",
       "      <td>Yes</td>\n",
       "      <td>3.2</td>\n",
       "      <td>internet+phone</td>\n",
       "      <td>True</td>\n",
       "      <td>True</td>\n",
       "      <td>True</td>\n",
       "      <td>True</td>\n",
       "      <td>Month-to-Month</td>\n",
       "      <td>One Line</td>\n",
       "      <td>DSL</td>\n",
       "      <td>True</td>\n",
       "      <td>False</td>\n",
       "    </tr>\n",
       "    <tr>\n",
       "      <th>18</th>\n",
       "      <td>0022-TCJCI</td>\n",
       "      <td>Male</td>\n",
       "      <td>1</td>\n",
       "      <td>No</td>\n",
       "      <td>No</td>\n",
       "      <td>Credit card (automatic)</td>\n",
       "      <td>62.70</td>\n",
       "      <td>2791.50</td>\n",
       "      <td>Yes</td>\n",
       "      <td>44.5</td>\n",
       "      <td>internet+phone</td>\n",
       "      <td>True</td>\n",
       "      <td>True</td>\n",
       "      <td>True</td>\n",
       "      <td>True</td>\n",
       "      <td>1 Year</td>\n",
       "      <td>One Line</td>\n",
       "      <td>DSL</td>\n",
       "      <td>True</td>\n",
       "      <td>True</td>\n",
       "    </tr>\n",
       "    <tr>\n",
       "      <th>19</th>\n",
       "      <td>0023-HGHWL</td>\n",
       "      <td>Male</td>\n",
       "      <td>1</td>\n",
       "      <td>No</td>\n",
       "      <td>No</td>\n",
       "      <td>Electronic check</td>\n",
       "      <td>25.10</td>\n",
       "      <td>25.10</td>\n",
       "      <td>Yes</td>\n",
       "      <td>1.0</td>\n",
       "      <td>internet</td>\n",
       "      <td>True</td>\n",
       "      <td>False</td>\n",
       "      <td>True</td>\n",
       "      <td>False</td>\n",
       "      <td>Month-to-Month</td>\n",
       "      <td>No Phone Service</td>\n",
       "      <td>No Internet Service</td>\n",
       "      <td>True</td>\n",
       "      <td>False</td>\n",
       "    </tr>\n",
       "    <tr>\n",
       "      <th>...</th>\n",
       "      <td>...</td>\n",
       "      <td>...</td>\n",
       "      <td>...</td>\n",
       "      <td>...</td>\n",
       "      <td>...</td>\n",
       "      <td>...</td>\n",
       "      <td>...</td>\n",
       "      <td>...</td>\n",
       "      <td>...</td>\n",
       "      <td>...</td>\n",
       "      <td>...</td>\n",
       "      <td>...</td>\n",
       "      <td>...</td>\n",
       "      <td>...</td>\n",
       "      <td>...</td>\n",
       "      <td>...</td>\n",
       "      <td>...</td>\n",
       "      <td>...</td>\n",
       "      <td>...</td>\n",
       "      <td>...</td>\n",
       "    </tr>\n",
       "    <tr>\n",
       "      <th>7023</th>\n",
       "      <td>9965-YOKZB</td>\n",
       "      <td>Male</td>\n",
       "      <td>1</td>\n",
       "      <td>No</td>\n",
       "      <td>No</td>\n",
       "      <td>Electronic check</td>\n",
       "      <td>83.85</td>\n",
       "      <td>790.15</td>\n",
       "      <td>Yes</td>\n",
       "      <td>9.4</td>\n",
       "      <td>internet+phone</td>\n",
       "      <td>True</td>\n",
       "      <td>True</td>\n",
       "      <td>True</td>\n",
       "      <td>True</td>\n",
       "      <td>Month-to-Month</td>\n",
       "      <td>Two or More Lines</td>\n",
       "      <td>Fiber Optic</td>\n",
       "      <td>True</td>\n",
       "      <td>False</td>\n",
       "    </tr>\n",
       "    <tr>\n",
       "      <th>7031</th>\n",
       "      <td>0032-PGELS</td>\n",
       "      <td>Female</td>\n",
       "      <td>0</td>\n",
       "      <td>Yes</td>\n",
       "      <td>Yes</td>\n",
       "      <td>Bank transfer (automatic)</td>\n",
       "      <td>30.50</td>\n",
       "      <td>30.50</td>\n",
       "      <td>Yes</td>\n",
       "      <td>1.0</td>\n",
       "      <td>internet</td>\n",
       "      <td>True</td>\n",
       "      <td>False</td>\n",
       "      <td>True</td>\n",
       "      <td>False</td>\n",
       "      <td>Month-to-Month</td>\n",
       "      <td>No Phone Service</td>\n",
       "      <td>No Internet Service</td>\n",
       "      <td>False</td>\n",
       "      <td>True</td>\n",
       "    </tr>\n",
       "    <tr>\n",
       "      <th>7042</th>\n",
       "      <td>9985-MWVIX</td>\n",
       "      <td>Female</td>\n",
       "      <td>0</td>\n",
       "      <td>No</td>\n",
       "      <td>No</td>\n",
       "      <td>Mailed check</td>\n",
       "      <td>70.15</td>\n",
       "      <td>70.15</td>\n",
       "      <td>Yes</td>\n",
       "      <td>1.0</td>\n",
       "      <td>internet+phone</td>\n",
       "      <td>True</td>\n",
       "      <td>True</td>\n",
       "      <td>True</td>\n",
       "      <td>True</td>\n",
       "      <td>Month-to-Month</td>\n",
       "      <td>One Line</td>\n",
       "      <td>DSL</td>\n",
       "      <td>False</td>\n",
       "      <td>False</td>\n",
       "    </tr>\n",
       "    <tr>\n",
       "      <th>7043</th>\n",
       "      <td>9986-BONCE</td>\n",
       "      <td>Female</td>\n",
       "      <td>0</td>\n",
       "      <td>No</td>\n",
       "      <td>No</td>\n",
       "      <td>Bank transfer (automatic)</td>\n",
       "      <td>20.95</td>\n",
       "      <td>85.50</td>\n",
       "      <td>Yes</td>\n",
       "      <td>4.1</td>\n",
       "      <td>phone</td>\n",
       "      <td>True</td>\n",
       "      <td>True</td>\n",
       "      <td>False</td>\n",
       "      <td>False</td>\n",
       "      <td>Month-to-Month</td>\n",
       "      <td>One Line</td>\n",
       "      <td>DSL</td>\n",
       "      <td>False</td>\n",
       "      <td>True</td>\n",
       "    </tr>\n",
       "    <tr>\n",
       "      <th>7045</th>\n",
       "      <td>9992-RRAMN</td>\n",
       "      <td>Male</td>\n",
       "      <td>0</td>\n",
       "      <td>Yes</td>\n",
       "      <td>No</td>\n",
       "      <td>Electronic check</td>\n",
       "      <td>85.10</td>\n",
       "      <td>1873.70</td>\n",
       "      <td>Yes</td>\n",
       "      <td>22.0</td>\n",
       "      <td>internet+phone</td>\n",
       "      <td>True</td>\n",
       "      <td>True</td>\n",
       "      <td>True</td>\n",
       "      <td>True</td>\n",
       "      <td>Month-to-Month</td>\n",
       "      <td>Two or More Lines</td>\n",
       "      <td>Fiber Optic</td>\n",
       "      <td>False</td>\n",
       "      <td>False</td>\n",
       "    </tr>\n",
       "  </tbody>\n",
       "</table>\n",
       "<p>1870 rows × 20 columns</p>\n",
       "</div>"
      ],
      "text/plain": [
       "     customer_id  gender  is_senior_citizen partner dependents  \\\n",
       "2     0004-TLHLJ    Male                  0      No         No   \n",
       "3     0011-IGKFF    Male                  1     Yes         No   \n",
       "4     0013-EXCHZ  Female                  1     Yes         No   \n",
       "18    0022-TCJCI    Male                  1      No         No   \n",
       "19    0023-HGHWL    Male                  1      No         No   \n",
       "...          ...     ...                ...     ...        ...   \n",
       "7023  9965-YOKZB    Male                  1      No         No   \n",
       "7031  0032-PGELS  Female                  0     Yes        Yes   \n",
       "7042  9985-MWVIX  Female                  0      No         No   \n",
       "7043  9986-BONCE  Female                  0      No         No   \n",
       "7045  9992-RRAMN    Male                  0     Yes         No   \n",
       "\n",
       "                   payment_type  monthly_charges  total_charges churn  tenure  \\\n",
       "2              Electronic check            73.90         280.85   Yes     3.8   \n",
       "3              Electronic check            98.00        1237.85   Yes    12.6   \n",
       "4                  Mailed check            83.90         267.40   Yes     3.2   \n",
       "18      Credit card (automatic)            62.70        2791.50   Yes    44.5   \n",
       "19             Electronic check            25.10          25.10   Yes     1.0   \n",
       "...                         ...              ...            ...   ...     ...   \n",
       "7023           Electronic check            83.85         790.15   Yes     9.4   \n",
       "7031  Bank transfer (automatic)            30.50          30.50   Yes     1.0   \n",
       "7042               Mailed check            70.15          70.15   Yes     1.0   \n",
       "7043  Bank transfer (automatic)            20.95          85.50   Yes     4.1   \n",
       "7045           Electronic check            85.10        1873.70   Yes    22.0   \n",
       "\n",
       "        service_type  has_churned  has_phone  has_internet  \\\n",
       "2     internet+phone         True       True          True   \n",
       "3     internet+phone         True       True          True   \n",
       "4     internet+phone         True       True          True   \n",
       "18    internet+phone         True       True          True   \n",
       "19          internet         True      False          True   \n",
       "...              ...          ...        ...           ...   \n",
       "7023  internet+phone         True       True          True   \n",
       "7031        internet         True      False          True   \n",
       "7042  internet+phone         True       True          True   \n",
       "7043           phone         True       True         False   \n",
       "7045  internet+phone         True       True          True   \n",
       "\n",
       "      has_phone_and_internet   contract_type         phone_type  \\\n",
       "2                       True  Month-to-Month           One Line   \n",
       "3                       True  Month-to-Month           One Line   \n",
       "4                       True  Month-to-Month           One Line   \n",
       "18                      True          1 Year           One Line   \n",
       "19                     False  Month-to-Month   No Phone Service   \n",
       "...                      ...             ...                ...   \n",
       "7023                    True  Month-to-Month  Two or More Lines   \n",
       "7031                   False  Month-to-Month   No Phone Service   \n",
       "7042                    True  Month-to-Month           One Line   \n",
       "7043                   False  Month-to-Month           One Line   \n",
       "7045                    True  Month-to-Month  Two or More Lines   \n",
       "\n",
       "            internet_type  is_senior_bool  automatic_payment  \n",
       "2                     DSL           False              False  \n",
       "3                     DSL            True              False  \n",
       "4                     DSL            True              False  \n",
       "18                    DSL            True               True  \n",
       "19    No Internet Service            True              False  \n",
       "...                   ...             ...                ...  \n",
       "7023          Fiber Optic            True              False  \n",
       "7031  No Internet Service           False               True  \n",
       "7042                  DSL           False              False  \n",
       "7043                  DSL           False               True  \n",
       "7045          Fiber Optic           False              False  \n",
       "\n",
       "[1870 rows x 20 columns]"
      ]
     },
     "execution_count": 7,
     "metadata": {},
     "output_type": "execute_result"
    }
   ],
   "source": [
    "df_churned = df_telco[df_telco.churn == 'Yes']\n",
    "df_churned"
   ]
  },
  {
   "cell_type": "code",
   "execution_count": null,
   "id": "7e93a38a",
   "metadata": {},
   "outputs": [],
   "source": []
  },
  {
   "cell_type": "code",
   "execution_count": null,
   "id": "10509ecf",
   "metadata": {},
   "outputs": [],
   "source": []
  },
  {
   "cell_type": "code",
   "execution_count": 8,
   "id": "a33576a1",
   "metadata": {
    "scrolled": true
   },
   "outputs": [
    {
     "data": {
      "text/html": [
       "<div>\n",
       "<style scoped>\n",
       "    .dataframe tbody tr th:only-of-type {\n",
       "        vertical-align: middle;\n",
       "    }\n",
       "\n",
       "    .dataframe tbody tr th {\n",
       "        vertical-align: top;\n",
       "    }\n",
       "\n",
       "    .dataframe thead th {\n",
       "        text-align: right;\n",
       "    }\n",
       "</style>\n",
       "<table border=\"1\" class=\"dataframe\">\n",
       "  <thead>\n",
       "    <tr style=\"text-align: right;\">\n",
       "      <th></th>\n",
       "      <th>customer_id</th>\n",
       "      <th>gender</th>\n",
       "      <th>is_senior_citizen</th>\n",
       "      <th>partner</th>\n",
       "      <th>dependents</th>\n",
       "      <th>payment_type</th>\n",
       "      <th>monthly_charges</th>\n",
       "      <th>total_charges</th>\n",
       "      <th>churn</th>\n",
       "      <th>tenure</th>\n",
       "      <th>service_type</th>\n",
       "      <th>has_churned</th>\n",
       "      <th>has_phone</th>\n",
       "      <th>has_internet</th>\n",
       "      <th>has_phone_and_internet</th>\n",
       "      <th>contract_type</th>\n",
       "      <th>phone_type</th>\n",
       "      <th>internet_type</th>\n",
       "      <th>is_senior_bool</th>\n",
       "      <th>automatic_payment</th>\n",
       "    </tr>\n",
       "  </thead>\n",
       "  <tbody>\n",
       "    <tr>\n",
       "      <th>0</th>\n",
       "      <td>0002-ORFBO</td>\n",
       "      <td>Female</td>\n",
       "      <td>0</td>\n",
       "      <td>Yes</td>\n",
       "      <td>Yes</td>\n",
       "      <td>Mailed check</td>\n",
       "      <td>65.60</td>\n",
       "      <td>593.30</td>\n",
       "      <td>No</td>\n",
       "      <td>9.0</td>\n",
       "      <td>internet+phone</td>\n",
       "      <td>False</td>\n",
       "      <td>True</td>\n",
       "      <td>True</td>\n",
       "      <td>True</td>\n",
       "      <td>1 Year</td>\n",
       "      <td>One Line</td>\n",
       "      <td>DSL</td>\n",
       "      <td>False</td>\n",
       "      <td>False</td>\n",
       "    </tr>\n",
       "    <tr>\n",
       "      <th>1</th>\n",
       "      <td>0003-MKNFE</td>\n",
       "      <td>Male</td>\n",
       "      <td>0</td>\n",
       "      <td>No</td>\n",
       "      <td>No</td>\n",
       "      <td>Mailed check</td>\n",
       "      <td>59.90</td>\n",
       "      <td>542.40</td>\n",
       "      <td>No</td>\n",
       "      <td>9.1</td>\n",
       "      <td>internet+phone</td>\n",
       "      <td>False</td>\n",
       "      <td>True</td>\n",
       "      <td>True</td>\n",
       "      <td>True</td>\n",
       "      <td>Month-to-Month</td>\n",
       "      <td>Two or More Lines</td>\n",
       "      <td>Fiber Optic</td>\n",
       "      <td>False</td>\n",
       "      <td>False</td>\n",
       "    </tr>\n",
       "    <tr>\n",
       "      <th>5</th>\n",
       "      <td>0013-MHZWF</td>\n",
       "      <td>Female</td>\n",
       "      <td>0</td>\n",
       "      <td>No</td>\n",
       "      <td>Yes</td>\n",
       "      <td>Credit card (automatic)</td>\n",
       "      <td>69.40</td>\n",
       "      <td>571.45</td>\n",
       "      <td>No</td>\n",
       "      <td>8.2</td>\n",
       "      <td>internet+phone</td>\n",
       "      <td>False</td>\n",
       "      <td>True</td>\n",
       "      <td>True</td>\n",
       "      <td>True</td>\n",
       "      <td>Month-to-Month</td>\n",
       "      <td>One Line</td>\n",
       "      <td>DSL</td>\n",
       "      <td>False</td>\n",
       "      <td>True</td>\n",
       "    </tr>\n",
       "    <tr>\n",
       "      <th>6</th>\n",
       "      <td>0013-SMEOE</td>\n",
       "      <td>Female</td>\n",
       "      <td>1</td>\n",
       "      <td>Yes</td>\n",
       "      <td>No</td>\n",
       "      <td>Bank transfer (automatic)</td>\n",
       "      <td>109.70</td>\n",
       "      <td>7904.25</td>\n",
       "      <td>No</td>\n",
       "      <td>72.1</td>\n",
       "      <td>internet+phone</td>\n",
       "      <td>False</td>\n",
       "      <td>True</td>\n",
       "      <td>True</td>\n",
       "      <td>True</td>\n",
       "      <td>2 Year</td>\n",
       "      <td>One Line</td>\n",
       "      <td>DSL</td>\n",
       "      <td>True</td>\n",
       "      <td>True</td>\n",
       "    </tr>\n",
       "    <tr>\n",
       "      <th>7</th>\n",
       "      <td>0014-BMAQU</td>\n",
       "      <td>Male</td>\n",
       "      <td>0</td>\n",
       "      <td>Yes</td>\n",
       "      <td>No</td>\n",
       "      <td>Credit card (automatic)</td>\n",
       "      <td>84.65</td>\n",
       "      <td>5377.80</td>\n",
       "      <td>No</td>\n",
       "      <td>63.5</td>\n",
       "      <td>internet+phone</td>\n",
       "      <td>False</td>\n",
       "      <td>True</td>\n",
       "      <td>True</td>\n",
       "      <td>True</td>\n",
       "      <td>2 Year</td>\n",
       "      <td>Two or More Lines</td>\n",
       "      <td>Fiber Optic</td>\n",
       "      <td>False</td>\n",
       "      <td>True</td>\n",
       "    </tr>\n",
       "    <tr>\n",
       "      <th>...</th>\n",
       "      <td>...</td>\n",
       "      <td>...</td>\n",
       "      <td>...</td>\n",
       "      <td>...</td>\n",
       "      <td>...</td>\n",
       "      <td>...</td>\n",
       "      <td>...</td>\n",
       "      <td>...</td>\n",
       "      <td>...</td>\n",
       "      <td>...</td>\n",
       "      <td>...</td>\n",
       "      <td>...</td>\n",
       "      <td>...</td>\n",
       "      <td>...</td>\n",
       "      <td>...</td>\n",
       "      <td>...</td>\n",
       "      <td>...</td>\n",
       "      <td>...</td>\n",
       "      <td>...</td>\n",
       "      <td>...</td>\n",
       "    </tr>\n",
       "    <tr>\n",
       "      <th>7041</th>\n",
       "      <td>9979-RGMZT</td>\n",
       "      <td>Female</td>\n",
       "      <td>0</td>\n",
       "      <td>No</td>\n",
       "      <td>No</td>\n",
       "      <td>Mailed check</td>\n",
       "      <td>94.05</td>\n",
       "      <td>633.45</td>\n",
       "      <td>No</td>\n",
       "      <td>6.7</td>\n",
       "      <td>internet+phone</td>\n",
       "      <td>False</td>\n",
       "      <td>True</td>\n",
       "      <td>True</td>\n",
       "      <td>True</td>\n",
       "      <td>1 Year</td>\n",
       "      <td>One Line</td>\n",
       "      <td>DSL</td>\n",
       "      <td>False</td>\n",
       "      <td>False</td>\n",
       "    </tr>\n",
       "    <tr>\n",
       "      <th>7044</th>\n",
       "      <td>9987-LUTYD</td>\n",
       "      <td>Female</td>\n",
       "      <td>0</td>\n",
       "      <td>No</td>\n",
       "      <td>No</td>\n",
       "      <td>Mailed check</td>\n",
       "      <td>55.15</td>\n",
       "      <td>742.90</td>\n",
       "      <td>No</td>\n",
       "      <td>13.5</td>\n",
       "      <td>internet+phone</td>\n",
       "      <td>False</td>\n",
       "      <td>True</td>\n",
       "      <td>True</td>\n",
       "      <td>True</td>\n",
       "      <td>1 Year</td>\n",
       "      <td>One Line</td>\n",
       "      <td>DSL</td>\n",
       "      <td>False</td>\n",
       "      <td>False</td>\n",
       "    </tr>\n",
       "    <tr>\n",
       "      <th>7046</th>\n",
       "      <td>9992-UJOEL</td>\n",
       "      <td>Male</td>\n",
       "      <td>0</td>\n",
       "      <td>No</td>\n",
       "      <td>No</td>\n",
       "      <td>Mailed check</td>\n",
       "      <td>50.30</td>\n",
       "      <td>92.75</td>\n",
       "      <td>No</td>\n",
       "      <td>1.8</td>\n",
       "      <td>internet+phone</td>\n",
       "      <td>False</td>\n",
       "      <td>True</td>\n",
       "      <td>True</td>\n",
       "      <td>True</td>\n",
       "      <td>Month-to-Month</td>\n",
       "      <td>One Line</td>\n",
       "      <td>DSL</td>\n",
       "      <td>False</td>\n",
       "      <td>False</td>\n",
       "    </tr>\n",
       "    <tr>\n",
       "      <th>7047</th>\n",
       "      <td>9993-LHIEB</td>\n",
       "      <td>Male</td>\n",
       "      <td>0</td>\n",
       "      <td>Yes</td>\n",
       "      <td>Yes</td>\n",
       "      <td>Mailed check</td>\n",
       "      <td>67.85</td>\n",
       "      <td>4627.65</td>\n",
       "      <td>No</td>\n",
       "      <td>68.2</td>\n",
       "      <td>internet+phone</td>\n",
       "      <td>False</td>\n",
       "      <td>True</td>\n",
       "      <td>True</td>\n",
       "      <td>True</td>\n",
       "      <td>2 Year</td>\n",
       "      <td>One Line</td>\n",
       "      <td>DSL</td>\n",
       "      <td>False</td>\n",
       "      <td>False</td>\n",
       "    </tr>\n",
       "    <tr>\n",
       "      <th>7048</th>\n",
       "      <td>9995-HOTOH</td>\n",
       "      <td>Male</td>\n",
       "      <td>0</td>\n",
       "      <td>Yes</td>\n",
       "      <td>Yes</td>\n",
       "      <td>Electronic check</td>\n",
       "      <td>59.00</td>\n",
       "      <td>3707.60</td>\n",
       "      <td>No</td>\n",
       "      <td>62.8</td>\n",
       "      <td>internet</td>\n",
       "      <td>False</td>\n",
       "      <td>False</td>\n",
       "      <td>True</td>\n",
       "      <td>False</td>\n",
       "      <td>2 Year</td>\n",
       "      <td>No Phone Service</td>\n",
       "      <td>No Internet Service</td>\n",
       "      <td>False</td>\n",
       "      <td>False</td>\n",
       "    </tr>\n",
       "  </tbody>\n",
       "</table>\n",
       "<p>5179 rows × 20 columns</p>\n",
       "</div>"
      ],
      "text/plain": [
       "     customer_id  gender  is_senior_citizen partner dependents  \\\n",
       "0     0002-ORFBO  Female                  0     Yes        Yes   \n",
       "1     0003-MKNFE    Male                  0      No         No   \n",
       "5     0013-MHZWF  Female                  0      No        Yes   \n",
       "6     0013-SMEOE  Female                  1     Yes         No   \n",
       "7     0014-BMAQU    Male                  0     Yes         No   \n",
       "...          ...     ...                ...     ...        ...   \n",
       "7041  9979-RGMZT  Female                  0      No         No   \n",
       "7044  9987-LUTYD  Female                  0      No         No   \n",
       "7046  9992-UJOEL    Male                  0      No         No   \n",
       "7047  9993-LHIEB    Male                  0     Yes        Yes   \n",
       "7048  9995-HOTOH    Male                  0     Yes        Yes   \n",
       "\n",
       "                   payment_type  monthly_charges  total_charges churn  tenure  \\\n",
       "0                  Mailed check            65.60         593.30    No     9.0   \n",
       "1                  Mailed check            59.90         542.40    No     9.1   \n",
       "5       Credit card (automatic)            69.40         571.45    No     8.2   \n",
       "6     Bank transfer (automatic)           109.70        7904.25    No    72.1   \n",
       "7       Credit card (automatic)            84.65        5377.80    No    63.5   \n",
       "...                         ...              ...            ...   ...     ...   \n",
       "7041               Mailed check            94.05         633.45    No     6.7   \n",
       "7044               Mailed check            55.15         742.90    No    13.5   \n",
       "7046               Mailed check            50.30          92.75    No     1.8   \n",
       "7047               Mailed check            67.85        4627.65    No    68.2   \n",
       "7048           Electronic check            59.00        3707.60    No    62.8   \n",
       "\n",
       "        service_type  has_churned  has_phone  has_internet  \\\n",
       "0     internet+phone        False       True          True   \n",
       "1     internet+phone        False       True          True   \n",
       "5     internet+phone        False       True          True   \n",
       "6     internet+phone        False       True          True   \n",
       "7     internet+phone        False       True          True   \n",
       "...              ...          ...        ...           ...   \n",
       "7041  internet+phone        False       True          True   \n",
       "7044  internet+phone        False       True          True   \n",
       "7046  internet+phone        False       True          True   \n",
       "7047  internet+phone        False       True          True   \n",
       "7048        internet        False      False          True   \n",
       "\n",
       "      has_phone_and_internet   contract_type         phone_type  \\\n",
       "0                       True          1 Year           One Line   \n",
       "1                       True  Month-to-Month  Two or More Lines   \n",
       "5                       True  Month-to-Month           One Line   \n",
       "6                       True          2 Year           One Line   \n",
       "7                       True          2 Year  Two or More Lines   \n",
       "...                      ...             ...                ...   \n",
       "7041                    True          1 Year           One Line   \n",
       "7044                    True          1 Year           One Line   \n",
       "7046                    True  Month-to-Month           One Line   \n",
       "7047                    True          2 Year           One Line   \n",
       "7048                   False          2 Year   No Phone Service   \n",
       "\n",
       "            internet_type  is_senior_bool  automatic_payment  \n",
       "0                     DSL           False              False  \n",
       "1             Fiber Optic           False              False  \n",
       "5                     DSL           False               True  \n",
       "6                     DSL            True               True  \n",
       "7             Fiber Optic           False               True  \n",
       "...                   ...             ...                ...  \n",
       "7041                  DSL           False              False  \n",
       "7044                  DSL           False              False  \n",
       "7046                  DSL           False              False  \n",
       "7047                  DSL           False              False  \n",
       "7048  No Internet Service           False              False  \n",
       "\n",
       "[5179 rows x 20 columns]"
      ]
     },
     "execution_count": 8,
     "metadata": {},
     "output_type": "execute_result"
    }
   ],
   "source": [
    "df_unchurned = df_telco[df_telco.churn == 'No']\n",
    "df_unchurned"
   ]
  },
  {
   "cell_type": "code",
   "execution_count": 9,
   "id": "8dbe3d21",
   "metadata": {},
   "outputs": [
    {
     "data": {
      "text/plain": [
       "True"
      ]
     },
     "execution_count": 9,
     "metadata": {},
     "output_type": "execute_result"
    }
   ],
   "source": [
    "# double check that all the rows are in the subsets\n",
    "df_churned.shape[0]+df_unchurned.shape[0]==df_telco.shape[0]"
   ]
  },
  {
   "cell_type": "markdown",
   "id": "f194d9ef",
   "metadata": {},
   "source": [
    "## How big is the churn problem?\n",
    "- What proportion of customers have churned?\n",
    "- what is the loss of profit per month do churned customers represent?"
   ]
  },
  {
   "cell_type": "code",
   "execution_count": 44,
   "id": "2efb7434",
   "metadata": {},
   "outputs": [
    {
     "data": {
      "text/plain": [
       "0.2652858561498085"
      ]
     },
     "execution_count": 44,
     "metadata": {},
     "output_type": "execute_result"
    }
   ],
   "source": [
    "# ~26% of customers have churned\n",
    "df_telco.has_churned.mean()"
   ]
  },
  {
   "cell_type": "code",
   "execution_count": 49,
   "id": "1481cdd3",
   "metadata": {},
   "outputs": [
    {
     "data": {
      "text/plain": [
       "139161.35"
      ]
     },
     "execution_count": 49,
     "metadata": {},
     "output_type": "execute_result"
    }
   ],
   "source": [
    "# Churned customers represent $139,161.36 lost per month\n",
    "df_telco[df_telco.has_churned].monthly_charges.sum()"
   ]
  },
  {
   "cell_type": "code",
   "execution_count": 54,
   "id": "f18951f8",
   "metadata": {
    "scrolled": true
   },
   "outputs": [
    {
     "data": {
      "text/plain": [
       "0.30490979766289217"
      ]
     },
     "execution_count": 54,
     "metadata": {},
     "output_type": "execute_result"
    }
   ],
   "source": [
    "df_telco[df_telco.has_churned].monthly_charges.sum()/df_telco.monthly_charges.sum()"
   ]
  },
  {
   "cell_type": "markdown",
   "id": "7b84674b",
   "metadata": {},
   "source": [
    "#### Take aways\n",
    "The 26% of churned customers represent a loss of $139,161.36 per month"
   ]
  },
  {
   "cell_type": "markdown",
   "id": "2a431677",
   "metadata": {},
   "source": [
    "## What are the characteristics of a churned customers?"
   ]
  },
  {
   "cell_type": "markdown",
   "id": "8262456a",
   "metadata": {},
   "source": [
    "compare numerical data first"
   ]
  },
  {
   "cell_type": "code",
   "execution_count": 12,
   "id": "c9810a36",
   "metadata": {},
   "outputs": [
    {
     "data": {
      "text/html": [
       "<div>\n",
       "<style scoped>\n",
       "    .dataframe tbody tr th:only-of-type {\n",
       "        vertical-align: middle;\n",
       "    }\n",
       "\n",
       "    .dataframe tbody tr th {\n",
       "        vertical-align: top;\n",
       "    }\n",
       "\n",
       "    .dataframe thead th {\n",
       "        text-align: right;\n",
       "    }\n",
       "</style>\n",
       "<table border=\"1\" class=\"dataframe\">\n",
       "  <thead>\n",
       "    <tr style=\"text-align: right;\">\n",
       "      <th></th>\n",
       "      <th>is_senior_citizen</th>\n",
       "      <th>monthly_charges</th>\n",
       "      <th>total_charges</th>\n",
       "      <th>tenure</th>\n",
       "    </tr>\n",
       "  </thead>\n",
       "  <tbody>\n",
       "    <tr>\n",
       "      <th>count</th>\n",
       "      <td>1870.000000</td>\n",
       "      <td>1870.000000</td>\n",
       "      <td>1870.000000</td>\n",
       "      <td>1870.000000</td>\n",
       "    </tr>\n",
       "    <tr>\n",
       "      <th>mean</th>\n",
       "      <td>0.254545</td>\n",
       "      <td>74.417834</td>\n",
       "      <td>1530.993262</td>\n",
       "      <td>17.960909</td>\n",
       "    </tr>\n",
       "    <tr>\n",
       "      <th>std</th>\n",
       "      <td>0.435722</td>\n",
       "      <td>24.680381</td>\n",
       "      <td>1890.635868</td>\n",
       "      <td>19.555915</td>\n",
       "    </tr>\n",
       "    <tr>\n",
       "      <th>min</th>\n",
       "      <td>0.000000</td>\n",
       "      <td>18.850000</td>\n",
       "      <td>18.850000</td>\n",
       "      <td>1.000000</td>\n",
       "    </tr>\n",
       "    <tr>\n",
       "      <th>25%</th>\n",
       "      <td>0.000000</td>\n",
       "      <td>56.150000</td>\n",
       "      <td>134.387500</td>\n",
       "      <td>2.100000</td>\n",
       "    </tr>\n",
       "    <tr>\n",
       "      <th>50%</th>\n",
       "      <td>0.000000</td>\n",
       "      <td>79.625000</td>\n",
       "      <td>702.200000</td>\n",
       "      <td>9.700000</td>\n",
       "    </tr>\n",
       "    <tr>\n",
       "      <th>75%</th>\n",
       "      <td>1.000000</td>\n",
       "      <td>94.200000</td>\n",
       "      <td>2328.425000</td>\n",
       "      <td>29.100000</td>\n",
       "    </tr>\n",
       "    <tr>\n",
       "      <th>max</th>\n",
       "      <td>1.000000</td>\n",
       "      <td>118.350000</td>\n",
       "      <td>8684.800000</td>\n",
       "      <td>74.200000</td>\n",
       "    </tr>\n",
       "  </tbody>\n",
       "</table>\n",
       "</div>"
      ],
      "text/plain": [
       "       is_senior_citizen  monthly_charges  total_charges       tenure\n",
       "count        1870.000000      1870.000000    1870.000000  1870.000000\n",
       "mean            0.254545        74.417834    1530.993262    17.960909\n",
       "std             0.435722        24.680381    1890.635868    19.555915\n",
       "min             0.000000        18.850000      18.850000     1.000000\n",
       "25%             0.000000        56.150000     134.387500     2.100000\n",
       "50%             0.000000        79.625000     702.200000     9.700000\n",
       "75%             1.000000        94.200000    2328.425000    29.100000\n",
       "max             1.000000       118.350000    8684.800000    74.200000"
      ]
     },
     "execution_count": 12,
     "metadata": {},
     "output_type": "execute_result"
    }
   ],
   "source": [
    "# a basic stat information:\n",
    "# is senior citizen is also numeric, but can be ignored\n",
    "stats_churned = df_churned.describe()\n",
    "stats_churned"
   ]
  },
  {
   "cell_type": "code",
   "execution_count": 13,
   "id": "2af7375f",
   "metadata": {},
   "outputs": [
    {
     "data": {
      "text/html": [
       "<div>\n",
       "<style scoped>\n",
       "    .dataframe tbody tr th:only-of-type {\n",
       "        vertical-align: middle;\n",
       "    }\n",
       "\n",
       "    .dataframe tbody tr th {\n",
       "        vertical-align: top;\n",
       "    }\n",
       "\n",
       "    .dataframe thead th {\n",
       "        text-align: right;\n",
       "    }\n",
       "</style>\n",
       "<table border=\"1\" class=\"dataframe\">\n",
       "  <thead>\n",
       "    <tr style=\"text-align: right;\">\n",
       "      <th></th>\n",
       "      <th>is_senior_citizen</th>\n",
       "      <th>monthly_charges</th>\n",
       "      <th>total_charges</th>\n",
       "      <th>tenure</th>\n",
       "    </tr>\n",
       "  </thead>\n",
       "  <tbody>\n",
       "    <tr>\n",
       "      <th>count</th>\n",
       "      <td>5179.000000</td>\n",
       "      <td>5179.000000</td>\n",
       "      <td>5168.000000</td>\n",
       "      <td>5179.000000</td>\n",
       "    </tr>\n",
       "    <tr>\n",
       "      <th>mean</th>\n",
       "      <td>0.128596</td>\n",
       "      <td>61.255136</td>\n",
       "      <td>2555.167463</td>\n",
       "      <td>37.586445</td>\n",
       "    </tr>\n",
       "    <tr>\n",
       "      <th>std</th>\n",
       "      <td>0.334785</td>\n",
       "      <td>31.101952</td>\n",
       "      <td>2329.074537</td>\n",
       "      <td>24.148137</td>\n",
       "    </tr>\n",
       "    <tr>\n",
       "      <th>min</th>\n",
       "      <td>0.000000</td>\n",
       "      <td>18.250000</td>\n",
       "      <td>18.800000</td>\n",
       "      <td>0.000000</td>\n",
       "    </tr>\n",
       "    <tr>\n",
       "      <th>25%</th>\n",
       "      <td>0.000000</td>\n",
       "      <td>25.100000</td>\n",
       "      <td>578.162500</td>\n",
       "      <td>14.850000</td>\n",
       "    </tr>\n",
       "    <tr>\n",
       "      <th>50%</th>\n",
       "      <td>0.000000</td>\n",
       "      <td>64.400000</td>\n",
       "      <td>1683.000000</td>\n",
       "      <td>37.600000</td>\n",
       "    </tr>\n",
       "    <tr>\n",
       "      <th>75%</th>\n",
       "      <td>0.000000</td>\n",
       "      <td>88.400000</td>\n",
       "      <td>4264.062500</td>\n",
       "      <td>60.700000</td>\n",
       "    </tr>\n",
       "    <tr>\n",
       "      <th>max</th>\n",
       "      <td>1.000000</td>\n",
       "      <td>118.750000</td>\n",
       "      <td>8672.450000</td>\n",
       "      <td>79.300000</td>\n",
       "    </tr>\n",
       "  </tbody>\n",
       "</table>\n",
       "</div>"
      ],
      "text/plain": [
       "       is_senior_citizen  monthly_charges  total_charges       tenure\n",
       "count        5179.000000      5179.000000    5168.000000  5179.000000\n",
       "mean            0.128596        61.255136    2555.167463    37.586445\n",
       "std             0.334785        31.101952    2329.074537    24.148137\n",
       "min             0.000000        18.250000      18.800000     0.000000\n",
       "25%             0.000000        25.100000     578.162500    14.850000\n",
       "50%             0.000000        64.400000    1683.000000    37.600000\n",
       "75%             0.000000        88.400000    4264.062500    60.700000\n",
       "max             1.000000       118.750000    8672.450000    79.300000"
      ]
     },
     "execution_count": 13,
     "metadata": {},
     "output_type": "execute_result"
    }
   ],
   "source": [
    "#compare with unchurned\n",
    "stats_unchurned = df_unchurned.describe()\n",
    "stats_unchurned"
   ]
  },
  {
   "cell_type": "code",
   "execution_count": 14,
   "id": "a84c2890",
   "metadata": {},
   "outputs": [
    {
     "data": {
      "text/html": [
       "<div>\n",
       "<style scoped>\n",
       "    .dataframe tbody tr th:only-of-type {\n",
       "        vertical-align: middle;\n",
       "    }\n",
       "\n",
       "    .dataframe tbody tr th {\n",
       "        vertical-align: top;\n",
       "    }\n",
       "\n",
       "    .dataframe thead th {\n",
       "        text-align: right;\n",
       "    }\n",
       "</style>\n",
       "<table border=\"1\" class=\"dataframe\">\n",
       "  <thead>\n",
       "    <tr style=\"text-align: right;\">\n",
       "      <th></th>\n",
       "      <th>is_senior_citizen</th>\n",
       "      <th>monthly_charges</th>\n",
       "      <th>total_charges</th>\n",
       "      <th>tenure</th>\n",
       "    </tr>\n",
       "  </thead>\n",
       "  <tbody>\n",
       "    <tr>\n",
       "      <th>count</th>\n",
       "      <td>7049.000000</td>\n",
       "      <td>7049.000000</td>\n",
       "      <td>7038.000000</td>\n",
       "      <td>7049.000000</td>\n",
       "    </tr>\n",
       "    <tr>\n",
       "      <th>mean</th>\n",
       "      <td>0.162009</td>\n",
       "      <td>64.747014</td>\n",
       "      <td>2283.043883</td>\n",
       "      <td>32.380068</td>\n",
       "    </tr>\n",
       "    <tr>\n",
       "      <th>std</th>\n",
       "      <td>0.368485</td>\n",
       "      <td>30.099460</td>\n",
       "      <td>2266.521984</td>\n",
       "      <td>24.594926</td>\n",
       "    </tr>\n",
       "    <tr>\n",
       "      <th>min</th>\n",
       "      <td>0.000000</td>\n",
       "      <td>18.250000</td>\n",
       "      <td>18.800000</td>\n",
       "      <td>0.000000</td>\n",
       "    </tr>\n",
       "    <tr>\n",
       "      <th>25%</th>\n",
       "      <td>0.000000</td>\n",
       "      <td>35.450000</td>\n",
       "      <td>401.587500</td>\n",
       "      <td>8.700000</td>\n",
       "    </tr>\n",
       "    <tr>\n",
       "      <th>50%</th>\n",
       "      <td>0.000000</td>\n",
       "      <td>70.350000</td>\n",
       "      <td>1397.100000</td>\n",
       "      <td>28.700000</td>\n",
       "    </tr>\n",
       "    <tr>\n",
       "      <th>75%</th>\n",
       "      <td>0.000000</td>\n",
       "      <td>89.850000</td>\n",
       "      <td>3793.775000</td>\n",
       "      <td>55.200000</td>\n",
       "    </tr>\n",
       "    <tr>\n",
       "      <th>max</th>\n",
       "      <td>1.000000</td>\n",
       "      <td>118.750000</td>\n",
       "      <td>8684.800000</td>\n",
       "      <td>79.300000</td>\n",
       "    </tr>\n",
       "  </tbody>\n",
       "</table>\n",
       "</div>"
      ],
      "text/plain": [
       "       is_senior_citizen  monthly_charges  total_charges       tenure\n",
       "count        7049.000000      7049.000000    7038.000000  7049.000000\n",
       "mean            0.162009        64.747014    2283.043883    32.380068\n",
       "std             0.368485        30.099460    2266.521984    24.594926\n",
       "min             0.000000        18.250000      18.800000     0.000000\n",
       "25%             0.000000        35.450000     401.587500     8.700000\n",
       "50%             0.000000        70.350000    1397.100000    28.700000\n",
       "75%             0.000000        89.850000    3793.775000    55.200000\n",
       "max             1.000000       118.750000    8684.800000    79.300000"
      ]
     },
     "execution_count": 14,
     "metadata": {},
     "output_type": "execute_result"
    }
   ],
   "source": [
    "# and general customer\n",
    "stats_general = df_telco.describe()\n",
    "stats_general"
   ]
  },
  {
   "cell_type": "markdown",
   "id": "80daa0bd",
   "metadata": {},
   "source": [
    "- It looks like senior citizens are overrepresented in churned customers\n",
    "- churned customers have a higher monthy charge\n",
    "- tenure of churned customers is lower\n",
    "\n",
    "chart these observations"
   ]
  },
  {
   "cell_type": "code",
   "execution_count": 15,
   "id": "64c5bf94",
   "metadata": {},
   "outputs": [
    {
     "data": {
      "text/plain": [
       "<AxesSubplot:xlabel='monthly_charges', ylabel='churn'>"
      ]
     },
     "execution_count": 15,
     "metadata": {},
     "output_type": "execute_result"
    },
    {
     "data": {
      "image/png": "[encoded data removed]",
      "text/plain": [
       "<Figure size 432x288 with 1 Axes>"
      ]
     },
     "metadata": {
      "needs_background": "light"
     },
     "output_type": "display_data"
    }
   ],
   "source": [
    "sns.barplot(x='monthly_charges', y='churn', data=df_telco)"
   ]
  },
  {
   "cell_type": "code",
   "execution_count": 16,
   "id": "a02eae91",
   "metadata": {},
   "outputs": [
    {
     "data": {
      "image/png": "[encoded data removed]",
      "text/plain": [
       "<Figure size 432x288 with 1 Axes>"
      ]
     },
     "metadata": {
      "needs_background": "light"
     },
     "output_type": "display_data"
    }
   ],
   "source": [
    "g = sns.boxplot(x='monthly_charges', y='churn', data=df_telco)\n",
    "g.set(title= 'Box Plot of Monthly Charges by Churn', xlabel='Monthly Charges in USD', ylabel = 'Churned?')\n",
    "g.get_figure().savefig('monthlycharges_box.svg')"
   ]
  },
  {
   "cell_type": "code",
   "execution_count": 17,
   "id": "72126884",
   "metadata": {},
   "outputs": [
    {
     "data": {
      "text/plain": [
       "<AxesSubplot:xlabel='tenure', ylabel='churn'>"
      ]
     },
     "execution_count": 17,
     "metadata": {},
     "output_type": "execute_result"
    },
    {
     "data": {
      "image/png": "[encoded data removed]",
      "text/plain": [
       "<Figure size 432x288 with 1 Axes>"
      ]
     },
     "metadata": {
      "needs_background": "light"
     },
     "output_type": "display_data"
    }
   ],
   "source": [
    "sns.barplot(x='tenure', y='churn', data=df_telco)"
   ]
  },
  {
   "cell_type": "code",
   "execution_count": 18,
   "id": "1adf2d85",
   "metadata": {},
   "outputs": [
    {
     "data": {
      "text/plain": [
       "<AxesSubplot:xlabel='tenure', ylabel='churn'>"
      ]
     },
     "execution_count": 18,
     "metadata": {},
     "output_type": "execute_result"
    },
    {
     "data": {
      "image/png": "[encoded data removed]",
      "text/plain": [
       "<Figure size 432x288 with 1 Axes>"
      ]
     },
     "metadata": {
      "needs_background": "light"
     },
     "output_type": "display_data"
    }
   ],
   "source": [
    "sns.boxplot(x='tenure', y='churn', data=df_telco)"
   ]
  },
  {
   "cell_type": "markdown",
   "id": "6ca823ac",
   "metadata": {},
   "source": [
    "Compare categorical data next"
   ]
  },
  {
   "cell_type": "code",
   "execution_count": 19,
   "id": "22cf4380",
   "metadata": {},
   "outputs": [
    {
     "data": {
      "text/plain": [
       "Female    940\n",
       "Male      930\n",
       "Name: gender, dtype: int64"
      ]
     },
     "execution_count": 19,
     "metadata": {},
     "output_type": "execute_result"
    }
   ],
   "source": [
    "# gender proportions: basically even\n",
    "df_churned['gender'].value_counts()"
   ]
  },
  {
   "cell_type": "code",
   "execution_count": 20,
   "id": "54a4d466",
   "metadata": {},
   "outputs": [],
   "source": [
    "#to get proportions:\n",
    "percentizer = lambda x: x*100/sum(x)"
   ]
  },
  {
   "cell_type": "code",
   "execution_count": 21,
   "id": "af84d45c",
   "metadata": {},
   "outputs": [
    {
     "data": {
      "text/plain": [
       "<AxesSubplot:xlabel='churn'>"
      ]
     },
     "execution_count": 21,
     "metadata": {},
     "output_type": "execute_result"
    },
    {
     "data": {
      "image/png": "[encoded data removed]",
      "text/plain": [
       "<Figure size 432x288 with 1 Axes>"
      ]
     },
     "metadata": {
      "needs_background": "light"
     },
     "output_type": "display_data"
    }
   ],
   "source": [
    "pd.crosstab(df_telco.churn, df_telco.gender).apply(percentizer, axis = 1).plot(kind='bar', stacked=True)"
   ]
  },
  {
   "cell_type": "code",
   "execution_count": 22,
   "id": "bce7e9d8",
   "metadata": {},
   "outputs": [
    {
     "data": {
      "image/png": "[encoded data removed]",
      "text/plain": [
       "<Figure size 720x720 with 1 Axes>"
      ]
     },
     "metadata": {
      "needs_background": "light"
     },
     "output_type": "display_data"
    }
   ],
   "source": [
    "# partnered\n",
    "df_churned.partner.value_counts()\n",
    "pd.crosstab(df_telco.churn, df_telco.partner).apply(percentizer, axis = 1).plot(kind='bar', stacked=True, figsize=(10,10))\n",
    "plt.title('Proportion Churned by Partner Status'),\n",
    "plt.xlabel('Churn')\n",
    "plt.savefig('partner_churn.svg')"
   ]
  },
  {
   "cell_type": "code",
   "execution_count": 23,
   "id": "83a0e0d9",
   "metadata": {},
   "outputs": [
    {
     "data": {
      "text/html": [
       "<div>\n",
       "<style scoped>\n",
       "    .dataframe tbody tr th:only-of-type {\n",
       "        vertical-align: middle;\n",
       "    }\n",
       "\n",
       "    .dataframe tbody tr th {\n",
       "        vertical-align: top;\n",
       "    }\n",
       "\n",
       "    .dataframe thead th {\n",
       "        text-align: right;\n",
       "    }\n",
       "</style>\n",
       "<table border=\"1\" class=\"dataframe\">\n",
       "  <thead>\n",
       "    <tr style=\"text-align: right;\">\n",
       "      <th>partner</th>\n",
       "      <th>No</th>\n",
       "      <th>Yes</th>\n",
       "    </tr>\n",
       "    <tr>\n",
       "      <th>churn</th>\n",
       "      <th></th>\n",
       "      <th></th>\n",
       "    </tr>\n",
       "  </thead>\n",
       "  <tbody>\n",
       "    <tr>\n",
       "      <th>No</th>\n",
       "      <td>47.151960</td>\n",
       "      <td>52.848040</td>\n",
       "    </tr>\n",
       "    <tr>\n",
       "      <th>Yes</th>\n",
       "      <td>64.171123</td>\n",
       "      <td>35.828877</td>\n",
       "    </tr>\n",
       "  </tbody>\n",
       "</table>\n",
       "</div>"
      ],
      "text/plain": [
       "partner         No        Yes\n",
       "churn                        \n",
       "No       47.151960  52.848040\n",
       "Yes      64.171123  35.828877"
      ]
     },
     "execution_count": 23,
     "metadata": {},
     "output_type": "execute_result"
    }
   ],
   "source": [
    "pd.crosstab(df_telco.churn, df_telco.partner).apply(percentizer, axis = 1)"
   ]
  },
  {
   "cell_type": "code",
   "execution_count": 24,
   "id": "544bfcc4",
   "metadata": {},
   "outputs": [
    {
     "data": {
      "text/plain": [
       "<AxesSubplot:xlabel='churn'>"
      ]
     },
     "execution_count": 24,
     "metadata": {},
     "output_type": "execute_result"
    },
    {
     "data": {
      "image/png": "[encoded data removed]",
      "text/plain": [
       "<Figure size 720x720 with 1 Axes>"
      ]
     },
     "metadata": {
      "needs_background": "light"
     },
     "output_type": "display_data"
    }
   ],
   "source": [
    "# dependents\n",
    "pd.crosstab(df_telco.churn, df_telco.dependents).apply(percentizer, axis = 1).plot(kind='bar', stacked=True, figsize=(10,10))"
   ]
  },
  {
   "cell_type": "code",
   "execution_count": 25,
   "id": "d412efd8",
   "metadata": {},
   "outputs": [
    {
     "data": {
      "text/html": [
       "<div>\n",
       "<style scoped>\n",
       "    .dataframe tbody tr th:only-of-type {\n",
       "        vertical-align: middle;\n",
       "    }\n",
       "\n",
       "    .dataframe tbody tr th {\n",
       "        vertical-align: top;\n",
       "    }\n",
       "\n",
       "    .dataframe thead th {\n",
       "        text-align: right;\n",
       "    }\n",
       "</style>\n",
       "<table border=\"1\" class=\"dataframe\">\n",
       "  <thead>\n",
       "    <tr style=\"text-align: right;\">\n",
       "      <th>dependents</th>\n",
       "      <th>No</th>\n",
       "      <th>Yes</th>\n",
       "    </tr>\n",
       "    <tr>\n",
       "      <th>churn</th>\n",
       "      <th></th>\n",
       "      <th></th>\n",
       "    </tr>\n",
       "  </thead>\n",
       "  <tbody>\n",
       "    <tr>\n",
       "      <th>No</th>\n",
       "      <td>65.475961</td>\n",
       "      <td>34.524039</td>\n",
       "    </tr>\n",
       "    <tr>\n",
       "      <th>Yes</th>\n",
       "      <td>82.513369</td>\n",
       "      <td>17.486631</td>\n",
       "    </tr>\n",
       "  </tbody>\n",
       "</table>\n",
       "</div>"
      ],
      "text/plain": [
       "dependents         No        Yes\n",
       "churn                           \n",
       "No          65.475961  34.524039\n",
       "Yes         82.513369  17.486631"
      ]
     },
     "execution_count": 25,
     "metadata": {},
     "output_type": "execute_result"
    }
   ],
   "source": [
    "pd.crosstab(df_telco.churn, df_telco.dependents).apply(percentizer, axis = 1)"
   ]
  },
  {
   "cell_type": "code",
   "execution_count": 26,
   "id": "440961c9",
   "metadata": {},
   "outputs": [
    {
     "data": {
      "text/plain": [
       "<AxesSubplot:xlabel='churn'>"
      ]
     },
     "execution_count": 26,
     "metadata": {},
     "output_type": "execute_result"
    },
    {
     "data": {
      "image/png": "[encoded data removed]",
      "text/plain": [
       "<Figure size 720x720 with 1 Axes>"
      ]
     },
     "metadata": {
      "needs_background": "light"
     },
     "output_type": "display_data"
    }
   ],
   "source": [
    "# payment type\n",
    "pd.crosstab(df_telco.churn, df_telco.automatic_payment).apply(percentizer, axis = 1).plot(kind='bar', stacked=True, figsize=(10,10))"
   ]
  },
  {
   "cell_type": "code",
   "execution_count": 27,
   "id": "6e06817b",
   "metadata": {},
   "outputs": [
    {
     "data": {
      "text/plain": [
       "<AxesSubplot:xlabel='churn'>"
      ]
     },
     "execution_count": 27,
     "metadata": {},
     "output_type": "execute_result"
    },
    {
     "data": {
      "image/png": "[encoded data removed]",
      "text/plain": [
       "<Figure size 432x288 with 1 Axes>"
      ]
     },
     "metadata": {
      "needs_background": "light"
     },
     "output_type": "display_data"
    }
   ],
   "source": [
    "# service type\n",
    "pd.crosstab(df_telco.churn, df_telco.service_type).apply(percentizer, axis = 1).plot(kind='bar', stacked=True)"
   ]
  },
  {
   "cell_type": "code",
   "execution_count": 28,
   "id": "4501ef2c",
   "metadata": {
    "scrolled": true
   },
   "outputs": [
    {
     "data": {
      "text/plain": [
       "<AxesSubplot:xlabel='churn'>"
      ]
     },
     "execution_count": 28,
     "metadata": {},
     "output_type": "execute_result"
    },
    {
     "data": {
      "image/png": "[encoded data removed]",
      "text/plain": [
       "<Figure size 432x288 with 1 Axes>"
      ]
     },
     "metadata": {
      "needs_background": "light"
     },
     "output_type": "display_data"
    }
   ],
   "source": [
    "# internet type type\n",
    "pd.crosstab(df_telco.churn, df_telco.internet_type).apply(percentizer, axis = 1).plot(kind='bar', stacked=True)"
   ]
  },
  {
   "cell_type": "code",
   "execution_count": 29,
   "id": "591059ef",
   "metadata": {},
   "outputs": [
    {
     "data": {
      "text/plain": [
       "<AxesSubplot:xlabel='churn'>"
      ]
     },
     "execution_count": 29,
     "metadata": {},
     "output_type": "execute_result"
    },
    {
     "data": {
      "image/png": "[encoded data removed]",
      "text/plain": [
       "<Figure size 720x720 with 1 Axes>"
      ]
     },
     "metadata": {
      "needs_background": "light"
     },
     "output_type": "display_data"
    }
   ],
   "source": [
    "# contract type\n",
    "pd.crosstab(df_telco.churn, df_telco.contract_type).apply(percentizer, axis = 1).plot(kind='bar', stacked=True,figsize=(10,10))"
   ]
  },
  {
   "cell_type": "code",
   "execution_count": 30,
   "id": "cd08f8a6",
   "metadata": {},
   "outputs": [
    {
     "data": {
      "text/plain": [
       "<AxesSubplot:xlabel='churn'>"
      ]
     },
     "execution_count": 30,
     "metadata": {},
     "output_type": "execute_result"
    },
    {
     "data": {
      "image/png": "[encoded data removed]",
      "text/plain": [
       "<Figure size 432x288 with 1 Axes>"
      ]
     },
     "metadata": {
      "needs_background": "light"
     },
     "output_type": "display_data"
    }
   ],
   "source": [
    "# senior citizen\n",
    "pd.crosstab(df_telco.churn, df_telco.is_senior_bool).apply(percentizer, axis = 1).plot(kind='bar', stacked=True)"
   ]
  },
  {
   "cell_type": "code",
   "execution_count": 31,
   "id": "9fd1bea1",
   "metadata": {},
   "outputs": [
    {
     "data": {
      "text/plain": [
       "DSL                    3395\n",
       "Fiber Optic            2971\n",
       "No Internet Service     683\n",
       "Name: internet_type, dtype: int64"
      ]
     },
     "execution_count": 31,
     "metadata": {},
     "output_type": "execute_result"
    }
   ],
   "source": [
    "df_telco['internet_type'].value_counts()"
   ]
  },
  {
   "cell_type": "code",
   "execution_count": 32,
   "id": "b379d780",
   "metadata": {},
   "outputs": [
    {
     "data": {
      "text/html": [
       "<div>\n",
       "<style scoped>\n",
       "    .dataframe tbody tr th:only-of-type {\n",
       "        vertical-align: middle;\n",
       "    }\n",
       "\n",
       "    .dataframe tbody tr th {\n",
       "        vertical-align: top;\n",
       "    }\n",
       "\n",
       "    .dataframe thead th {\n",
       "        text-align: right;\n",
       "    }\n",
       "</style>\n",
       "<table border=\"1\" class=\"dataframe\">\n",
       "  <thead>\n",
       "    <tr style=\"text-align: right;\">\n",
       "      <th>is_senior_bool</th>\n",
       "      <th>False</th>\n",
       "      <th>True</th>\n",
       "    </tr>\n",
       "    <tr>\n",
       "      <th>churn</th>\n",
       "      <th></th>\n",
       "      <th></th>\n",
       "    </tr>\n",
       "  </thead>\n",
       "  <tbody>\n",
       "    <tr>\n",
       "      <th>No</th>\n",
       "      <td>87.140375</td>\n",
       "      <td>12.859625</td>\n",
       "    </tr>\n",
       "    <tr>\n",
       "      <th>Yes</th>\n",
       "      <td>74.545455</td>\n",
       "      <td>25.454545</td>\n",
       "    </tr>\n",
       "  </tbody>\n",
       "</table>\n",
       "</div>"
      ],
      "text/plain": [
       "is_senior_bool      False       True\n",
       "churn                               \n",
       "No              87.140375  12.859625\n",
       "Yes             74.545455  25.454545"
      ]
     },
     "execution_count": 32,
     "metadata": {},
     "output_type": "execute_result"
    }
   ],
   "source": [
    "pd.crosstab(df_telco.churn, df_telco.is_senior_bool).apply(percentizer, axis = 1)"
   ]
  },
  {
   "cell_type": "markdown",
   "id": "5a4fed0f",
   "metadata": {},
   "source": [
    "- definitely looks like a churned customer is one paying month-to-month, without automatic payment, and with both internet and phone.\n",
    "- demographic information looks like it is less prevalent of a pattern"
   ]
  },
  {
   "cell_type": "markdown",
   "id": "ef60145a",
   "metadata": {},
   "source": [
    "## Are these hypotheses significant?\n",
    "- compare percent churn in general population and the sub-samples"
   ]
  },
  {
   "cell_type": "code",
   "execution_count": 33,
   "id": "3409b949",
   "metadata": {},
   "outputs": [
    {
     "data": {
      "text/plain": [
       "0.2652858561498085"
      ]
     },
     "execution_count": 33,
     "metadata": {},
     "output_type": "execute_result"
    }
   ],
   "source": [
    "percent_churned = df_telco.has_churned.mean()\n",
    "percent_churned"
   ]
  },
  {
   "cell_type": "code",
   "execution_count": null,
   "id": "2fadf5dc",
   "metadata": {},
   "outputs": [],
   "source": []
  },
  {
   "cell_type": "code",
   "execution_count": 95,
   "id": "eff6a7ef",
   "metadata": {},
   "outputs": [
    {
     "data": {
      "text/plain": [
       "has_churned  automatic_payment\n",
       "False        False                2598\n",
       "             True                 2581\n",
       "True         False                1379\n",
       "             True                  491\n",
       "Name: automatic_payment, dtype: int64"
      ]
     },
     "execution_count": 95,
     "metadata": {},
     "output_type": "execute_result"
    }
   ],
   "source": [
    "# automatic payments are likely among churned customers\n",
    "df_telco.groupby('has_churned').automatic_payment.value_counts()"
   ]
  },
  {
   "cell_type": "code",
   "execution_count": 96,
   "id": "5f311f25",
   "metadata": {},
   "outputs": [
    {
     "data": {
      "text/plain": [
       "has_churned  contract_type \n",
       "False        Month-to-Month    2220\n",
       "             2 Year            1649\n",
       "             1 Year            1310\n",
       "True         Month-to-Month    1656\n",
       "             1 Year             166\n",
       "             2 Year              48\n",
       "Name: contract_type, dtype: int64"
      ]
     },
     "execution_count": 96,
     "metadata": {},
     "output_type": "execute_result"
    }
   ],
   "source": [
    "# month-to-month customers are over represented\n",
    "df_telco.groupby('has_churned').contract_type.value_counts()"
   ]
  },
  {
   "cell_type": "code",
   "execution_count": 36,
   "id": "738ad409",
   "metadata": {},
   "outputs": [
    {
     "data": {
      "text/plain": [
       "service_type\n",
       "internet          0.250366\n",
       "internet+phone    0.327889\n",
       "phone             0.073905\n",
       "Name: has_churned, dtype: float64"
      ]
     },
     "execution_count": 36,
     "metadata": {},
     "output_type": "execute_result"
    }
   ],
   "source": [
    "df_telco.groupby('service_type').has_churned.mean()"
   ]
  },
  {
   "cell_type": "code",
   "execution_count": 37,
   "id": "7d233762",
   "metadata": {},
   "outputs": [
    {
     "data": {
      "text/plain": [
       "internet_type\n",
       "DSL                    0.250074\n",
       "Fiber Optic            0.286099\n",
       "No Internet Service    0.250366\n",
       "Name: has_churned, dtype: float64"
      ]
     },
     "execution_count": 37,
     "metadata": {},
     "output_type": "execute_result"
    }
   ],
   "source": [
    "df_telco.groupby('internet_type').has_churned.mean()"
   ]
  },
  {
   "cell_type": "code",
   "execution_count": 38,
   "id": "760f2c7d",
   "metadata": {},
   "outputs": [
    {
     "data": {
      "text/plain": [
       "phone_type\n",
       "No Phone Service     0.250366\n",
       "One Line             0.250074\n",
       "Two or More Lines    0.286099\n",
       "Name: has_churned, dtype: float64"
      ]
     },
     "execution_count": 38,
     "metadata": {},
     "output_type": "execute_result"
    }
   ],
   "source": [
    "df_telco.groupby('phone_type').has_churned.mean()"
   ]
  },
  {
   "cell_type": "code",
   "execution_count": 39,
   "id": "189123c0",
   "metadata": {},
   "outputs": [
    {
     "data": {
      "text/plain": [
       "partner\n",
       "No     0.329489\n",
       "Yes    0.196654\n",
       "Name: has_churned, dtype: float64"
      ]
     },
     "execution_count": 39,
     "metadata": {},
     "output_type": "execute_result"
    }
   ],
   "source": [
    "df_telco.groupby('partner').has_churned.mean()"
   ]
  },
  {
   "cell_type": "code",
   "execution_count": 40,
   "id": "d2b8e416",
   "metadata": {},
   "outputs": [
    {
     "data": {
      "text/plain": [
       "dependents\n",
       "No     0.312728\n",
       "Yes    0.154610\n",
       "Name: has_churned, dtype: float64"
      ]
     },
     "execution_count": 40,
     "metadata": {},
     "output_type": "execute_result"
    }
   ],
   "source": [
    "df_telco.groupby('dependents').has_churned.mean()"
   ]
  },
  {
   "cell_type": "code",
   "execution_count": 42,
   "id": "a64add14",
   "metadata": {},
   "outputs": [
    {
     "data": {
      "text/plain": [
       "is_senior_bool\n",
       "False    0.235991\n",
       "True     0.416813\n",
       "Name: has_churned, dtype: float64"
      ]
     },
     "execution_count": 42,
     "metadata": {},
     "output_type": "execute_result"
    }
   ],
   "source": [
    "df_telco.groupby('is_senior_bool').has_churned.mean()"
   ]
  },
  {
   "cell_type": "code",
   "execution_count": 41,
   "id": "f5a66710",
   "metadata": {},
   "outputs": [
    {
     "data": {
      "text/plain": [
       "gender\n",
       "Female    0.269264\n",
       "Male      0.261383\n",
       "Name: has_churned, dtype: float64"
      ]
     },
     "execution_count": 41,
     "metadata": {},
     "output_type": "execute_result"
    }
   ],
   "source": [
    "df_telco.groupby('gender').has_churned.mean()"
   ]
  },
  {
   "cell_type": "code",
   "execution_count": 59,
   "id": "7ec20343",
   "metadata": {},
   "outputs": [
    {
     "data": {
      "text/html": [
       "<div>\n",
       "<style scoped>\n",
       "    .dataframe tbody tr th:only-of-type {\n",
       "        vertical-align: middle;\n",
       "    }\n",
       "\n",
       "    .dataframe tbody tr th {\n",
       "        vertical-align: top;\n",
       "    }\n",
       "\n",
       "    .dataframe thead th {\n",
       "        text-align: right;\n",
       "    }\n",
       "</style>\n",
       "<table border=\"1\" class=\"dataframe\">\n",
       "  <thead>\n",
       "    <tr style=\"text-align: right;\">\n",
       "      <th></th>\n",
       "      <th>is_senior_citizen</th>\n",
       "      <th>monthly_charges</th>\n",
       "      <th>total_charges</th>\n",
       "      <th>tenure</th>\n",
       "    </tr>\n",
       "  </thead>\n",
       "  <tbody>\n",
       "    <tr>\n",
       "      <th>count</th>\n",
       "      <td>1656.000000</td>\n",
       "      <td>1656.000000</td>\n",
       "      <td>1656.000000</td>\n",
       "      <td>1656.000000</td>\n",
       "    </tr>\n",
       "    <tr>\n",
       "      <th>mean</th>\n",
       "      <td>0.266304</td>\n",
       "      <td>72.993720</td>\n",
       "      <td>1163.775815</td>\n",
       "      <td>14.000845</td>\n",
       "    </tr>\n",
       "    <tr>\n",
       "      <th>std</th>\n",
       "      <td>0.442159</td>\n",
       "      <td>24.099529</td>\n",
       "      <td>1481.461332</td>\n",
       "      <td>15.860817</td>\n",
       "    </tr>\n",
       "    <tr>\n",
       "      <th>min</th>\n",
       "      <td>0.000000</td>\n",
       "      <td>18.850000</td>\n",
       "      <td>18.850000</td>\n",
       "      <td>1.000000</td>\n",
       "    </tr>\n",
       "    <tr>\n",
       "      <th>25%</th>\n",
       "      <td>0.000000</td>\n",
       "      <td>55.187500</td>\n",
       "      <td>93.962500</td>\n",
       "      <td>1.900000</td>\n",
       "    </tr>\n",
       "    <tr>\n",
       "      <th>50%</th>\n",
       "      <td>0.000000</td>\n",
       "      <td>79.025000</td>\n",
       "      <td>513.225000</td>\n",
       "      <td>7.400000</td>\n",
       "    </tr>\n",
       "    <tr>\n",
       "      <th>75%</th>\n",
       "      <td>1.000000</td>\n",
       "      <td>90.862500</td>\n",
       "      <td>1644.475000</td>\n",
       "      <td>21.125000</td>\n",
       "    </tr>\n",
       "    <tr>\n",
       "      <th>max</th>\n",
       "      <td>1.000000</td>\n",
       "      <td>117.450000</td>\n",
       "      <td>7548.100000</td>\n",
       "      <td>71.800000</td>\n",
       "    </tr>\n",
       "  </tbody>\n",
       "</table>\n",
       "</div>"
      ],
      "text/plain": [
       "       is_senior_citizen  monthly_charges  total_charges       tenure\n",
       "count        1656.000000      1656.000000    1656.000000  1656.000000\n",
       "mean            0.266304        72.993720    1163.775815    14.000845\n",
       "std             0.442159        24.099529    1481.461332    15.860817\n",
       "min             0.000000        18.850000      18.850000     1.000000\n",
       "25%             0.000000        55.187500      93.962500     1.900000\n",
       "50%             0.000000        79.025000     513.225000     7.400000\n",
       "75%             1.000000        90.862500    1644.475000    21.125000\n",
       "max             1.000000       117.450000    7548.100000    71.800000"
      ]
     },
     "execution_count": 59,
     "metadata": {},
     "output_type": "execute_result"
    }
   ],
   "source": [
    "df_telco[(df_telco.contract_type == 'Month-to-Month') & (df_telco.has_churned)].describe()"
   ]
  },
  {
   "cell_type": "code",
   "execution_count": 65,
   "id": "22626c5e",
   "metadata": {},
   "outputs": [
    {
     "data": {
      "text/plain": [
       "0.5498652291105122"
      ]
     },
     "execution_count": 65,
     "metadata": {},
     "output_type": "execute_result"
    }
   ],
   "source": [
    "df_telco[(df_telco.contract_type == 'Month-to-Month')].shape[0]/df_telco.shape[0]"
   ]
  },
  {
   "cell_type": "code",
   "execution_count": 67,
   "id": "aac5217b",
   "metadata": {},
   "outputs": [
    {
     "data": {
      "text/plain": [
       "0.43580649737551425"
      ]
     },
     "execution_count": 67,
     "metadata": {},
     "output_type": "execute_result"
    }
   ],
   "source": [
    "df_telco[df_telco.automatic_payment].shape[0]/df_telco.shape[0]"
   ]
  },
  {
   "cell_type": "code",
   "execution_count": 69,
   "id": "bce3f44e",
   "metadata": {},
   "outputs": [
    {
     "data": {
      "text/plain": [
       "0.43580649737551425"
      ]
     },
     "execution_count": 69,
     "metadata": {},
     "output_type": "execute_result"
    }
   ],
   "source": [
    "df_telco.automatic_payment.mean()"
   ]
  },
  {
   "cell_type": "code",
   "execution_count": 70,
   "id": "94cbfc93",
   "metadata": {},
   "outputs": [
    {
     "data": {
      "text/plain": [
       "No     5179\n",
       "Yes    1870\n",
       "Name: churn, dtype: int64"
      ]
     },
     "execution_count": 70,
     "metadata": {},
     "output_type": "execute_result"
    }
   ],
   "source": [
    "df_telco.churn.value_counts()"
   ]
  },
  {
   "cell_type": "code",
   "execution_count": 80,
   "id": "48eff925",
   "metadata": {},
   "outputs": [
    {
     "ename": "SyntaxError",
     "evalue": "invalid syntax (2515756867.py, line 1)",
     "output_type": "error",
     "traceback": [
      "\u001b[0;36m  File \u001b[0;32m\"/var/folders/lw/_43z7rb5635_x1dwsyzrnc_m0000gn/T/ipykernel_12892/2515756867.py\"\u001b[0;36m, line \u001b[0;32m1\u001b[0m\n\u001b[0;31m    df_telco[(df_telco.automatic_payment) & not (df_telco.has_churned)].count()\u001b[0m\n\u001b[0m                                            ^\u001b[0m\n\u001b[0;31mSyntaxError\u001b[0m\u001b[0;31m:\u001b[0m invalid syntax\n"
     ]
    }
   ],
   "source": [
    "df_telco[(df_telco.automatic_payment) & not (df_telco.has_churned)].count()"
   ]
  },
  {
   "cell_type": "code",
   "execution_count": null,
   "id": "9c16469c",
   "metadata": {},
   "outputs": [],
   "source": []
  }
 ],
 "metadata": {
  "kernelspec": {
   "display_name": "Python 3 (ipykernel)",
   "language": "python",
   "name": "python3"
  },
  "language_info": {
   "codemirror_mode": {
    "name": "ipython",
    "version": 3
   },
   "file_extension": ".py",
   "mimetype": "text/x-python",
   "name": "python",
   "nbconvert_exporter": "python",
   "pygments_lexer": "ipython3",
   "version": "3.9.7"
  }
 },
 "nbformat": 4,
 "nbformat_minor": 5
}
