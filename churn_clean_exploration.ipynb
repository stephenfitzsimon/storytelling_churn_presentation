{
 "cells": [
  {
   "cell_type": "code",
   "execution_count": 1,
   "id": "e36cd15c",
   "metadata": {},
   "outputs": [],
   "source": [
    "# import modules and data\n",
    "import pandas as pd\n",
    "import seaborn as sns\n",
    "import matplotlib.pyplot as plt"
   ]
  },
  {
   "cell_type": "code",
   "execution_count": 2,
   "id": "5b7ceed7",
   "metadata": {},
   "outputs": [
    {
     "data": {
      "text/html": [
       "<div>\n",
       "<style scoped>\n",
       "    .dataframe tbody tr th:only-of-type {\n",
       "        vertical-align: middle;\n",
       "    }\n",
       "\n",
       "    .dataframe tbody tr th {\n",
       "        vertical-align: top;\n",
       "    }\n",
       "\n",
       "    .dataframe thead th {\n",
       "        text-align: right;\n",
       "    }\n",
       "</style>\n",
       "<table border=\"1\" class=\"dataframe\">\n",
       "  <thead>\n",
       "    <tr style=\"text-align: right;\">\n",
       "      <th></th>\n",
       "      <th>customer_id</th>\n",
       "      <th>gender</th>\n",
       "      <th>is_senior_citizen</th>\n",
       "      <th>partner</th>\n",
       "      <th>dependents</th>\n",
       "      <th>phone_service</th>\n",
       "      <th>internet_service</th>\n",
       "      <th>contract_type</th>\n",
       "      <th>payment_type</th>\n",
       "      <th>monthly_charges</th>\n",
       "      <th>...</th>\n",
       "      <th>has_churned</th>\n",
       "      <th>has_phone</th>\n",
       "      <th>has_internet</th>\n",
       "      <th>has_phone_and_internet</th>\n",
       "      <th>partner_dependents</th>\n",
       "      <th>avg_monthly_charges</th>\n",
       "      <th>avg_bool_check</th>\n",
       "      <th>contract_type.1</th>\n",
       "      <th>phone_type</th>\n",
       "      <th>internet_type</th>\n",
       "    </tr>\n",
       "  </thead>\n",
       "  <tbody>\n",
       "    <tr>\n",
       "      <th>0</th>\n",
       "      <td>0002-ORFBO</td>\n",
       "      <td>Female</td>\n",
       "      <td>0</td>\n",
       "      <td>Yes</td>\n",
       "      <td>Yes</td>\n",
       "      <td>1</td>\n",
       "      <td>1</td>\n",
       "      <td>1</td>\n",
       "      <td>Mailed check</td>\n",
       "      <td>65.60</td>\n",
       "      <td>...</td>\n",
       "      <td>False</td>\n",
       "      <td>True</td>\n",
       "      <td>True</td>\n",
       "      <td>True</td>\n",
       "      <td>3</td>\n",
       "      <td>65.6</td>\n",
       "      <td>TRUE</td>\n",
       "      <td>1 Year</td>\n",
       "      <td>One Line</td>\n",
       "      <td>DSL</td>\n",
       "    </tr>\n",
       "    <tr>\n",
       "      <th>1</th>\n",
       "      <td>0003-MKNFE</td>\n",
       "      <td>Male</td>\n",
       "      <td>0</td>\n",
       "      <td>No</td>\n",
       "      <td>No</td>\n",
       "      <td>2</td>\n",
       "      <td>1</td>\n",
       "      <td>0</td>\n",
       "      <td>Mailed check</td>\n",
       "      <td>59.90</td>\n",
       "      <td>...</td>\n",
       "      <td>False</td>\n",
       "      <td>True</td>\n",
       "      <td>True</td>\n",
       "      <td>True</td>\n",
       "      <td>0</td>\n",
       "      <td>59.9</td>\n",
       "      <td>TRUE</td>\n",
       "      <td>Month-to-Month</td>\n",
       "      <td>Two or More Lines</td>\n",
       "      <td>Fiber Optic</td>\n",
       "    </tr>\n",
       "    <tr>\n",
       "      <th>2</th>\n",
       "      <td>0004-TLHLJ</td>\n",
       "      <td>Male</td>\n",
       "      <td>0</td>\n",
       "      <td>No</td>\n",
       "      <td>No</td>\n",
       "      <td>1</td>\n",
       "      <td>2</td>\n",
       "      <td>0</td>\n",
       "      <td>Electronic check</td>\n",
       "      <td>73.90</td>\n",
       "      <td>...</td>\n",
       "      <td>True</td>\n",
       "      <td>True</td>\n",
       "      <td>True</td>\n",
       "      <td>True</td>\n",
       "      <td>0</td>\n",
       "      <td>73.9</td>\n",
       "      <td>TRUE</td>\n",
       "      <td>Month-to-Month</td>\n",
       "      <td>One Line</td>\n",
       "      <td>DSL</td>\n",
       "    </tr>\n",
       "    <tr>\n",
       "      <th>3</th>\n",
       "      <td>0011-IGKFF</td>\n",
       "      <td>Male</td>\n",
       "      <td>1</td>\n",
       "      <td>Yes</td>\n",
       "      <td>No</td>\n",
       "      <td>1</td>\n",
       "      <td>2</td>\n",
       "      <td>0</td>\n",
       "      <td>Electronic check</td>\n",
       "      <td>98.00</td>\n",
       "      <td>...</td>\n",
       "      <td>True</td>\n",
       "      <td>True</td>\n",
       "      <td>True</td>\n",
       "      <td>True</td>\n",
       "      <td>1</td>\n",
       "      <td>98</td>\n",
       "      <td>TRUE</td>\n",
       "      <td>Month-to-Month</td>\n",
       "      <td>One Line</td>\n",
       "      <td>DSL</td>\n",
       "    </tr>\n",
       "    <tr>\n",
       "      <th>4</th>\n",
       "      <td>0013-EXCHZ</td>\n",
       "      <td>Female</td>\n",
       "      <td>1</td>\n",
       "      <td>Yes</td>\n",
       "      <td>No</td>\n",
       "      <td>1</td>\n",
       "      <td>2</td>\n",
       "      <td>0</td>\n",
       "      <td>Mailed check</td>\n",
       "      <td>83.90</td>\n",
       "      <td>...</td>\n",
       "      <td>True</td>\n",
       "      <td>True</td>\n",
       "      <td>True</td>\n",
       "      <td>True</td>\n",
       "      <td>1</td>\n",
       "      <td>83.9</td>\n",
       "      <td>TRUE</td>\n",
       "      <td>Month-to-Month</td>\n",
       "      <td>One Line</td>\n",
       "      <td>DSL</td>\n",
       "    </tr>\n",
       "    <tr>\n",
       "      <th>...</th>\n",
       "      <td>...</td>\n",
       "      <td>...</td>\n",
       "      <td>...</td>\n",
       "      <td>...</td>\n",
       "      <td>...</td>\n",
       "      <td>...</td>\n",
       "      <td>...</td>\n",
       "      <td>...</td>\n",
       "      <td>...</td>\n",
       "      <td>...</td>\n",
       "      <td>...</td>\n",
       "      <td>...</td>\n",
       "      <td>...</td>\n",
       "      <td>...</td>\n",
       "      <td>...</td>\n",
       "      <td>...</td>\n",
       "      <td>...</td>\n",
       "      <td>...</td>\n",
       "      <td>...</td>\n",
       "      <td>...</td>\n",
       "      <td>...</td>\n",
       "    </tr>\n",
       "    <tr>\n",
       "      <th>7044</th>\n",
       "      <td>9987-LUTYD</td>\n",
       "      <td>Female</td>\n",
       "      <td>0</td>\n",
       "      <td>No</td>\n",
       "      <td>No</td>\n",
       "      <td>1</td>\n",
       "      <td>1</td>\n",
       "      <td>1</td>\n",
       "      <td>Mailed check</td>\n",
       "      <td>55.15</td>\n",
       "      <td>...</td>\n",
       "      <td>False</td>\n",
       "      <td>True</td>\n",
       "      <td>True</td>\n",
       "      <td>True</td>\n",
       "      <td>0</td>\n",
       "      <td>55.15</td>\n",
       "      <td>TRUE</td>\n",
       "      <td>1 Year</td>\n",
       "      <td>One Line</td>\n",
       "      <td>DSL</td>\n",
       "    </tr>\n",
       "    <tr>\n",
       "      <th>7045</th>\n",
       "      <td>9992-RRAMN</td>\n",
       "      <td>Male</td>\n",
       "      <td>0</td>\n",
       "      <td>Yes</td>\n",
       "      <td>No</td>\n",
       "      <td>2</td>\n",
       "      <td>2</td>\n",
       "      <td>0</td>\n",
       "      <td>Electronic check</td>\n",
       "      <td>85.10</td>\n",
       "      <td>...</td>\n",
       "      <td>True</td>\n",
       "      <td>True</td>\n",
       "      <td>True</td>\n",
       "      <td>True</td>\n",
       "      <td>1</td>\n",
       "      <td>85.1</td>\n",
       "      <td>TRUE</td>\n",
       "      <td>Month-to-Month</td>\n",
       "      <td>Two or More Lines</td>\n",
       "      <td>Fiber Optic</td>\n",
       "    </tr>\n",
       "    <tr>\n",
       "      <th>7046</th>\n",
       "      <td>9992-UJOEL</td>\n",
       "      <td>Male</td>\n",
       "      <td>0</td>\n",
       "      <td>No</td>\n",
       "      <td>No</td>\n",
       "      <td>1</td>\n",
       "      <td>1</td>\n",
       "      <td>0</td>\n",
       "      <td>Mailed check</td>\n",
       "      <td>50.30</td>\n",
       "      <td>...</td>\n",
       "      <td>False</td>\n",
       "      <td>True</td>\n",
       "      <td>True</td>\n",
       "      <td>True</td>\n",
       "      <td>0</td>\n",
       "      <td>50.3</td>\n",
       "      <td>TRUE</td>\n",
       "      <td>Month-to-Month</td>\n",
       "      <td>One Line</td>\n",
       "      <td>DSL</td>\n",
       "    </tr>\n",
       "    <tr>\n",
       "      <th>7047</th>\n",
       "      <td>9993-LHIEB</td>\n",
       "      <td>Male</td>\n",
       "      <td>0</td>\n",
       "      <td>Yes</td>\n",
       "      <td>Yes</td>\n",
       "      <td>1</td>\n",
       "      <td>1</td>\n",
       "      <td>2</td>\n",
       "      <td>Mailed check</td>\n",
       "      <td>67.85</td>\n",
       "      <td>...</td>\n",
       "      <td>False</td>\n",
       "      <td>True</td>\n",
       "      <td>True</td>\n",
       "      <td>True</td>\n",
       "      <td>3</td>\n",
       "      <td>67.85</td>\n",
       "      <td>TRUE</td>\n",
       "      <td>2 Year</td>\n",
       "      <td>One Line</td>\n",
       "      <td>DSL</td>\n",
       "    </tr>\n",
       "    <tr>\n",
       "      <th>7048</th>\n",
       "      <td>9995-HOTOH</td>\n",
       "      <td>Male</td>\n",
       "      <td>0</td>\n",
       "      <td>Yes</td>\n",
       "      <td>Yes</td>\n",
       "      <td>0</td>\n",
       "      <td>1</td>\n",
       "      <td>2</td>\n",
       "      <td>Electronic check</td>\n",
       "      <td>59.00</td>\n",
       "      <td>...</td>\n",
       "      <td>False</td>\n",
       "      <td>False</td>\n",
       "      <td>True</td>\n",
       "      <td>False</td>\n",
       "      <td>3</td>\n",
       "      <td>59</td>\n",
       "      <td>TRUE</td>\n",
       "      <td>2 Year</td>\n",
       "      <td>No Phone Service</td>\n",
       "      <td>No Internet Service</td>\n",
       "    </tr>\n",
       "  </tbody>\n",
       "</table>\n",
       "<p>7049 rows × 26 columns</p>\n",
       "</div>"
      ],
      "text/plain": [
       "     customer_id  gender  is_senior_citizen partner dependents  phone_service  \\\n",
       "0     0002-ORFBO  Female                  0     Yes        Yes              1   \n",
       "1     0003-MKNFE    Male                  0      No         No              2   \n",
       "2     0004-TLHLJ    Male                  0      No         No              1   \n",
       "3     0011-IGKFF    Male                  1     Yes         No              1   \n",
       "4     0013-EXCHZ  Female                  1     Yes         No              1   \n",
       "...          ...     ...                ...     ...        ...            ...   \n",
       "7044  9987-LUTYD  Female                  0      No         No              1   \n",
       "7045  9992-RRAMN    Male                  0     Yes         No              2   \n",
       "7046  9992-UJOEL    Male                  0      No         No              1   \n",
       "7047  9993-LHIEB    Male                  0     Yes        Yes              1   \n",
       "7048  9995-HOTOH    Male                  0     Yes        Yes              0   \n",
       "\n",
       "      internet_service  contract_type      payment_type  monthly_charges  ...  \\\n",
       "0                    1              1      Mailed check            65.60  ...   \n",
       "1                    1              0      Mailed check            59.90  ...   \n",
       "2                    2              0  Electronic check            73.90  ...   \n",
       "3                    2              0  Electronic check            98.00  ...   \n",
       "4                    2              0      Mailed check            83.90  ...   \n",
       "...                ...            ...               ...              ...  ...   \n",
       "7044                 1              1      Mailed check            55.15  ...   \n",
       "7045                 2              0  Electronic check            85.10  ...   \n",
       "7046                 1              0      Mailed check            50.30  ...   \n",
       "7047                 1              2      Mailed check            67.85  ...   \n",
       "7048                 1              2  Electronic check            59.00  ...   \n",
       "\n",
       "      has_churned has_phone  has_internet  has_phone_and_internet  \\\n",
       "0           False      True          True                    True   \n",
       "1           False      True          True                    True   \n",
       "2            True      True          True                    True   \n",
       "3            True      True          True                    True   \n",
       "4            True      True          True                    True   \n",
       "...           ...       ...           ...                     ...   \n",
       "7044        False      True          True                    True   \n",
       "7045         True      True          True                    True   \n",
       "7046        False      True          True                    True   \n",
       "7047        False      True          True                    True   \n",
       "7048        False     False          True                   False   \n",
       "\n",
       "     partner_dependents  avg_monthly_charges  avg_bool_check  contract_type.1  \\\n",
       "0                     3                 65.6            TRUE           1 Year   \n",
       "1                     0                 59.9            TRUE   Month-to-Month   \n",
       "2                     0                 73.9            TRUE   Month-to-Month   \n",
       "3                     1                   98            TRUE   Month-to-Month   \n",
       "4                     1                 83.9            TRUE   Month-to-Month   \n",
       "...                 ...                  ...             ...              ...   \n",
       "7044                  0                55.15            TRUE           1 Year   \n",
       "7045                  1                 85.1            TRUE   Month-to-Month   \n",
       "7046                  0                 50.3            TRUE   Month-to-Month   \n",
       "7047                  3                67.85            TRUE           2 Year   \n",
       "7048                  3                   59            TRUE           2 Year   \n",
       "\n",
       "             phone_type        internet_type  \n",
       "0              One Line                  DSL  \n",
       "1     Two or More Lines          Fiber Optic  \n",
       "2              One Line                  DSL  \n",
       "3              One Line                  DSL  \n",
       "4              One Line                  DSL  \n",
       "...                 ...                  ...  \n",
       "7044           One Line                  DSL  \n",
       "7045  Two or More Lines          Fiber Optic  \n",
       "7046           One Line                  DSL  \n",
       "7047           One Line                  DSL  \n",
       "7048   No Phone Service  No Internet Service  \n",
       "\n",
       "[7049 rows x 26 columns]"
      ]
     },
     "execution_count": 2,
     "metadata": {},
     "output_type": "execute_result"
    }
   ],
   "source": [
    "df_telco = pd.read_csv('churn_data.csv')\n",
    "df_telco"
   ]
  },
  {
   "cell_type": "markdown",
   "id": "a9afbf43",
   "metadata": {},
   "source": [
    "Data looks pretty clean.  No rows have null data. But can drop some of the columns to clean the data a little.\n",
    "Justification for column drops:\n",
    "- is_female : just use gender\n",
    "- avg_monthly_charges : can be calculated easily\n",
    "- avg_bool_check : only a check on the calculation\n",
    "- contract_type, phone_service, internet_service : covered by contract_type1 (rename this as contract_type), phone_type, internet_type\n",
    "- rounded_tenure : was only used in the spreadsheets exercise\n",
    "- partner_dependents : covered by partner and dependents"
   ]
  },
  {
   "cell_type": "code",
   "execution_count": 3,
   "id": "f57e31d5",
   "metadata": {},
   "outputs": [],
   "source": [
    "df_telco.drop(columns = [\n",
    "    'is_female', \n",
    "    'avg_monthly_charges', \n",
    "    'avg_bool_check', \n",
    "    'contract_type', \n",
    "    'phone_service', \n",
    "    'internet_service',\n",
    "    'rounded_tenure',\n",
    "    'partner_dependents'\n",
    "], inplace = True)\n",
    "df_telco.rename(columns={'contract_type.1': 'contract_type'}, inplace=True)"
   ]
  },
  {
   "cell_type": "code",
   "execution_count": 4,
   "id": "2f750204",
   "metadata": {},
   "outputs": [
    {
     "name": "stdout",
     "output_type": "stream",
     "text": [
      "<class 'pandas.core.frame.DataFrame'>\n",
      "RangeIndex: 7049 entries, 0 to 7048\n",
      "Data columns (total 20 columns):\n",
      " #   Column                  Non-Null Count  Dtype  \n",
      "---  ------                  --------------  -----  \n",
      " 0   customer_id             7049 non-null   object \n",
      " 1   gender                  7049 non-null   object \n",
      " 2   is_senior_citizen       7049 non-null   int64  \n",
      " 3   partner                 7049 non-null   object \n",
      " 4   dependents              7049 non-null   object \n",
      " 5   payment_type            7049 non-null   object \n",
      " 6   monthly_charges         7049 non-null   float64\n",
      " 7   total_charges           7038 non-null   float64\n",
      " 8   churn                   7049 non-null   object \n",
      " 9   tenure                  7049 non-null   float64\n",
      " 10  service_type            7049 non-null   object \n",
      " 11  has_churned             7049 non-null   bool   \n",
      " 12  has_phone               7049 non-null   bool   \n",
      " 13  has_internet            7049 non-null   bool   \n",
      " 14  has_phone_and_internet  7049 non-null   bool   \n",
      " 15  contract_type           7049 non-null   object \n",
      " 16  phone_type              7049 non-null   object \n",
      " 17  internet_type           7049 non-null   object \n",
      " 18  is_senior_bool          7049 non-null   bool   \n",
      " 19  automatic_payment       7049 non-null   bool   \n",
      "dtypes: bool(6), float64(3), int64(1), object(10)\n",
      "memory usage: 812.4+ KB\n"
     ]
    }
   ],
   "source": [
    "# add a boolean column for senior citizen\n",
    "df_telco['is_senior_bool'] = df_telco['is_senior_citizen']==1\n",
    "df_telco\n",
    "#make a column with automatic payment\n",
    "df_telco['automatic_payment'] = df_telco.payment_type.str.contains('automatic')\n",
    "df_telco\n",
    "df_telco.info()"
   ]
  },
  {
   "cell_type": "markdown",
   "id": "7e8d32f4",
   "metadata": {},
   "source": [
    "Look at some basic statistics between churned and not-churned"
   ]
  },
  {
   "cell_type": "code",
   "execution_count": 5,
   "id": "ca8f18ce",
   "metadata": {},
   "outputs": [
    {
     "data": {
      "text/html": [
       "<div>\n",
       "<style scoped>\n",
       "    .dataframe tbody tr th:only-of-type {\n",
       "        vertical-align: middle;\n",
       "    }\n",
       "\n",
       "    .dataframe tbody tr th {\n",
       "        vertical-align: top;\n",
       "    }\n",
       "\n",
       "    .dataframe thead th {\n",
       "        text-align: right;\n",
       "    }\n",
       "</style>\n",
       "<table border=\"1\" class=\"dataframe\">\n",
       "  <thead>\n",
       "    <tr style=\"text-align: right;\">\n",
       "      <th></th>\n",
       "      <th>is_senior_citizen</th>\n",
       "      <th>monthly_charges</th>\n",
       "      <th>total_charges</th>\n",
       "      <th>tenure</th>\n",
       "    </tr>\n",
       "  </thead>\n",
       "  <tbody>\n",
       "    <tr>\n",
       "      <th>count</th>\n",
       "      <td>1870.000000</td>\n",
       "      <td>1870.000000</td>\n",
       "      <td>1870.000000</td>\n",
       "      <td>1870.000000</td>\n",
       "    </tr>\n",
       "    <tr>\n",
       "      <th>mean</th>\n",
       "      <td>0.254545</td>\n",
       "      <td>74.417834</td>\n",
       "      <td>1530.993262</td>\n",
       "      <td>17.960909</td>\n",
       "    </tr>\n",
       "    <tr>\n",
       "      <th>std</th>\n",
       "      <td>0.435722</td>\n",
       "      <td>24.680381</td>\n",
       "      <td>1890.635868</td>\n",
       "      <td>19.555915</td>\n",
       "    </tr>\n",
       "    <tr>\n",
       "      <th>min</th>\n",
       "      <td>0.000000</td>\n",
       "      <td>18.850000</td>\n",
       "      <td>18.850000</td>\n",
       "      <td>1.000000</td>\n",
       "    </tr>\n",
       "    <tr>\n",
       "      <th>25%</th>\n",
       "      <td>0.000000</td>\n",
       "      <td>56.150000</td>\n",
       "      <td>134.387500</td>\n",
       "      <td>2.100000</td>\n",
       "    </tr>\n",
       "    <tr>\n",
       "      <th>50%</th>\n",
       "      <td>0.000000</td>\n",
       "      <td>79.625000</td>\n",
       "      <td>702.200000</td>\n",
       "      <td>9.700000</td>\n",
       "    </tr>\n",
       "    <tr>\n",
       "      <th>75%</th>\n",
       "      <td>1.000000</td>\n",
       "      <td>94.200000</td>\n",
       "      <td>2328.425000</td>\n",
       "      <td>29.100000</td>\n",
       "    </tr>\n",
       "    <tr>\n",
       "      <th>max</th>\n",
       "      <td>1.000000</td>\n",
       "      <td>118.350000</td>\n",
       "      <td>8684.800000</td>\n",
       "      <td>74.200000</td>\n",
       "    </tr>\n",
       "  </tbody>\n",
       "</table>\n",
       "</div>"
      ],
      "text/plain": [
       "       is_senior_citizen  monthly_charges  total_charges       tenure\n",
       "count        1870.000000      1870.000000    1870.000000  1870.000000\n",
       "mean            0.254545        74.417834    1530.993262    17.960909\n",
       "std             0.435722        24.680381    1890.635868    19.555915\n",
       "min             0.000000        18.850000      18.850000     1.000000\n",
       "25%             0.000000        56.150000     134.387500     2.100000\n",
       "50%             0.000000        79.625000     702.200000     9.700000\n",
       "75%             1.000000        94.200000    2328.425000    29.100000\n",
       "max             1.000000       118.350000    8684.800000    74.200000"
      ]
     },
     "execution_count": 5,
     "metadata": {},
     "output_type": "execute_result"
    }
   ],
   "source": [
    "df_churned = df_telco[df_telco.churn == 'Yes']\n",
    "df_churned.describe()"
   ]
  },
  {
   "cell_type": "code",
   "execution_count": 6,
   "id": "f2d88f06",
   "metadata": {},
   "outputs": [
    {
     "data": {
      "text/html": [
       "<div>\n",
       "<style scoped>\n",
       "    .dataframe tbody tr th:only-of-type {\n",
       "        vertical-align: middle;\n",
       "    }\n",
       "\n",
       "    .dataframe tbody tr th {\n",
       "        vertical-align: top;\n",
       "    }\n",
       "\n",
       "    .dataframe thead th {\n",
       "        text-align: right;\n",
       "    }\n",
       "</style>\n",
       "<table border=\"1\" class=\"dataframe\">\n",
       "  <thead>\n",
       "    <tr style=\"text-align: right;\">\n",
       "      <th></th>\n",
       "      <th>is_senior_citizen</th>\n",
       "      <th>monthly_charges</th>\n",
       "      <th>total_charges</th>\n",
       "      <th>tenure</th>\n",
       "    </tr>\n",
       "  </thead>\n",
       "  <tbody>\n",
       "    <tr>\n",
       "      <th>count</th>\n",
       "      <td>5179.000000</td>\n",
       "      <td>5179.000000</td>\n",
       "      <td>5168.000000</td>\n",
       "      <td>5179.000000</td>\n",
       "    </tr>\n",
       "    <tr>\n",
       "      <th>mean</th>\n",
       "      <td>0.128596</td>\n",
       "      <td>61.255136</td>\n",
       "      <td>2555.167463</td>\n",
       "      <td>37.586445</td>\n",
       "    </tr>\n",
       "    <tr>\n",
       "      <th>std</th>\n",
       "      <td>0.334785</td>\n",
       "      <td>31.101952</td>\n",
       "      <td>2329.074537</td>\n",
       "      <td>24.148137</td>\n",
       "    </tr>\n",
       "    <tr>\n",
       "      <th>min</th>\n",
       "      <td>0.000000</td>\n",
       "      <td>18.250000</td>\n",
       "      <td>18.800000</td>\n",
       "      <td>0.000000</td>\n",
       "    </tr>\n",
       "    <tr>\n",
       "      <th>25%</th>\n",
       "      <td>0.000000</td>\n",
       "      <td>25.100000</td>\n",
       "      <td>578.162500</td>\n",
       "      <td>14.850000</td>\n",
       "    </tr>\n",
       "    <tr>\n",
       "      <th>50%</th>\n",
       "      <td>0.000000</td>\n",
       "      <td>64.400000</td>\n",
       "      <td>1683.000000</td>\n",
       "      <td>37.600000</td>\n",
       "    </tr>\n",
       "    <tr>\n",
       "      <th>75%</th>\n",
       "      <td>0.000000</td>\n",
       "      <td>88.400000</td>\n",
       "      <td>4264.062500</td>\n",
       "      <td>60.700000</td>\n",
       "    </tr>\n",
       "    <tr>\n",
       "      <th>max</th>\n",
       "      <td>1.000000</td>\n",
       "      <td>118.750000</td>\n",
       "      <td>8672.450000</td>\n",
       "      <td>79.300000</td>\n",
       "    </tr>\n",
       "  </tbody>\n",
       "</table>\n",
       "</div>"
      ],
      "text/plain": [
       "       is_senior_citizen  monthly_charges  total_charges       tenure\n",
       "count        5179.000000      5179.000000    5168.000000  5179.000000\n",
       "mean            0.128596        61.255136    2555.167463    37.586445\n",
       "std             0.334785        31.101952    2329.074537    24.148137\n",
       "min             0.000000        18.250000      18.800000     0.000000\n",
       "25%             0.000000        25.100000     578.162500    14.850000\n",
       "50%             0.000000        64.400000    1683.000000    37.600000\n",
       "75%             0.000000        88.400000    4264.062500    60.700000\n",
       "max             1.000000       118.750000    8672.450000    79.300000"
      ]
     },
     "execution_count": 6,
     "metadata": {},
     "output_type": "execute_result"
    }
   ],
   "source": [
    "df_unchurned = df_telco[df_telco.churn == 'No']\n",
    "df_unchurned.describe()"
   ]
  },
  {
   "cell_type": "markdown",
   "id": "8891f501",
   "metadata": {},
   "source": [
    "## How big is the churn problem?\n",
    "\n",
    "- What proportion of customers have churned?\n",
    "- what is the loss of profit per month do churned customers represent?"
   ]
  },
  {
   "cell_type": "code",
   "execution_count": 7,
   "id": "edfc1b10",
   "metadata": {},
   "outputs": [
    {
     "data": {
      "text/plain": [
       "0.2652858561498085"
      ]
     },
     "execution_count": 7,
     "metadata": {},
     "output_type": "execute_result"
    }
   ],
   "source": [
    "# ~26% of customers have churned\n",
    "df_telco.has_churned.mean()"
   ]
  },
  {
   "cell_type": "code",
   "execution_count": 8,
   "id": "c29aa5c4",
   "metadata": {},
   "outputs": [
    {
     "data": {
      "text/plain": [
       "139161.35"
      ]
     },
     "execution_count": 8,
     "metadata": {},
     "output_type": "execute_result"
    }
   ],
   "source": [
    "# Churned customers represent $139,161.36 lost per month\n",
    "df_telco[df_telco.has_churned].monthly_charges.sum()"
   ]
  },
  {
   "cell_type": "code",
   "execution_count": 9,
   "id": "80720306",
   "metadata": {},
   "outputs": [
    {
     "data": {
      "text/plain": [
       "0.30490979766289217"
      ]
     },
     "execution_count": 9,
     "metadata": {},
     "output_type": "execute_result"
    }
   ],
   "source": [
    "df_telco[df_telco.has_churned].monthly_charges.sum()/df_telco.monthly_charges.sum()"
   ]
  },
  {
   "cell_type": "markdown",
   "id": "dda92f23",
   "metadata": {},
   "source": [
    "#### Take aways\n",
    "The 26% of churned customers represent a loss of $139,161.36 per month"
   ]
  },
  {
   "cell_type": "markdown",
   "id": "b41645dc",
   "metadata": {},
   "source": [
    "## What are the characteristics of a churned customers?"
   ]
  },
  {
   "cell_type": "code",
   "execution_count": 11,
   "id": "a4eec5e0",
   "metadata": {},
   "outputs": [
    {
     "data": {
      "text/plain": [
       "Text(0.5, 0, 'Churn')"
      ]
     },
     "execution_count": 11,
     "metadata": {},
     "output_type": "execute_result"
    },
    {
     "data": {
      "image/png": "[encoded data removed]",
      "text/plain": [
       "<Figure size 720x720 with 1 Axes>"
      ]
     },
     "metadata": {
      "needs_background": "light"
     },
     "output_type": "display_data"
    }
   ],
   "source": [
    "# partnered\n",
    "df_churned.partner.value_counts()\n",
    "pd.crosstab(df_telco.churn, df_telco.partner).apply(lambda x: x*100/sum(x), axis = 1).plot(kind='bar', stacked=True, figsize=(10,10))\n",
    "plt.title('Proportion Churned by Partner Status'),\n",
    "plt.xlabel('Churn')"
   ]
  },
  {
   "cell_type": "code",
   "execution_count": 12,
   "id": "45131d2e",
   "metadata": {},
   "outputs": [
    {
     "data": {
      "text/plain": [
       "<AxesSubplot:xlabel='churn'>"
      ]
     },
     "execution_count": 12,
     "metadata": {},
     "output_type": "execute_result"
    },
    {
     "data": {
      "image/png": "[encoded data removed]",
      "text/plain": [
       "<Figure size 720x720 with 1 Axes>"
      ]
     },
     "metadata": {
      "needs_background": "light"
     },
     "output_type": "display_data"
    }
   ],
   "source": [
    "pd.crosstab(df_telco.churn, df_telco.dependents).apply(lambda x: x*100/sum(x), axis = 1).plot(kind='bar', stacked=True, figsize=(10,10))"
   ]
  },
  {
   "cell_type": "code",
   "execution_count": 13,
   "id": "a39b3f8a",
   "metadata": {},
   "outputs": [
    {
     "data": {
      "text/plain": [
       "<AxesSubplot:xlabel='churn'>"
      ]
     },
     "execution_count": 13,
     "metadata": {},
     "output_type": "execute_result"
    },
    {
     "data": {
      "image/png": "[encoded data removed]",
      "text/plain": [
       "<Figure size 720x720 with 1 Axes>"
      ]
     },
     "metadata": {
      "needs_background": "light"
     },
     "output_type": "display_data"
    }
   ],
   "source": [
    "# payment type\n",
    "pd.crosstab(df_telco.churn, df_telco.automatic_payment).apply(lambda x: x*100/sum(x), axis = 1).plot(kind='bar', stacked=True, figsize=(10,10))"
   ]
  },
  {
   "cell_type": "code",
   "execution_count": 14,
   "id": "5d23d11b",
   "metadata": {},
   "outputs": [
    {
     "data": {
      "text/plain": [
       "<AxesSubplot:xlabel='churn'>"
      ]
     },
     "execution_count": 14,
     "metadata": {},
     "output_type": "execute_result"
    },
    {
     "data": {
      "image/png": "[encoded data removed]",
      "text/plain": [
       "<Figure size 720x720 with 1 Axes>"
      ]
     },
     "metadata": {
      "needs_background": "light"
     },
     "output_type": "display_data"
    }
   ],
   "source": [
    "# contract type\n",
    "pd.crosstab(df_telco.churn, df_telco.contract_type).apply(lambda x: x*100/sum(x), axis = 1).plot(kind='bar', stacked=True,figsize=(10,10))"
   ]
  },
  {
   "cell_type": "code",
   "execution_count": 15,
   "id": "adbb174b",
   "metadata": {},
   "outputs": [
    {
     "data": {
      "text/plain": [
       "<AxesSubplot:xlabel='churn'>"
      ]
     },
     "execution_count": 15,
     "metadata": {},
     "output_type": "execute_result"
    },
    {
     "data": {
      "image/png": "[encoded data removed]",
      "text/plain": [
       "<Figure size 432x288 with 1 Axes>"
      ]
     },
     "metadata": {
      "needs_background": "light"
     },
     "output_type": "display_data"
    }
   ],
   "source": [
    "# senior citizen\n",
    "pd.crosstab(df_telco.churn, df_telco.is_senior_bool).apply(lambda x: x*100/sum(x), axis = 1).plot(kind='bar', stacked=True)"
   ]
  },
  {
   "cell_type": "markdown",
   "id": "f0219d83",
   "metadata": {},
   "source": [
    "- definitely looks like a churned customer is one paying month-to-month, without automatic payment, and with both internet and phone.\n",
    "- demographic information looks like it is less prevalent of a pattern"
   ]
  },
  {
   "cell_type": "markdown",
   "id": "413a6b4d",
   "metadata": {},
   "source": [
    "## Are these hypotheses significant?\n",
    "- compare percent churn in general population and the sub-samples"
   ]
  },
  {
   "cell_type": "code",
   "execution_count": 31,
   "id": "3d8438dd",
   "metadata": {},
   "outputs": [
    {
     "name": "stdout",
     "output_type": "stream",
     "text": [
      "{0.43580649737551425}\n"
     ]
    },
    {
     "data": {
      "text/plain": [
       "has_churned  automatic_payment\n",
       "False        False                2598\n",
       "             True                 2581\n",
       "True         False                1379\n",
       "             True                  491\n",
       "Name: automatic_payment, dtype: int64"
      ]
     },
     "execution_count": 31,
     "metadata": {},
     "output_type": "execute_result"
    }
   ],
   "source": [
    "# automatic payments are likely among churned customers\n",
    "print({df_telco[df_telco.automatic_payment].shape[0]/df_telco.shape[0]})\n",
    "# automatic payments are likely among churned customers\n",
    "df_telco.groupby('has_churned').automatic_payment.value_counts()"
   ]
  },
  {
   "cell_type": "code",
   "execution_count": 36,
   "id": "c97974a3",
   "metadata": {},
   "outputs": [
    {
     "name": "stdout",
     "output_type": "stream",
     "text": [
      "0.5498652291105122\n",
      "0.8855614973262033\n"
     ]
    },
    {
     "data": {
      "text/plain": [
       "has_churned  contract_type \n",
       "False        Month-to-Month    2220\n",
       "             2 Year            1649\n",
       "             1 Year            1310\n",
       "True         Month-to-Month    1656\n",
       "             1 Year             166\n",
       "             2 Year              48\n",
       "Name: contract_type, dtype: int64"
      ]
     },
     "execution_count": 36,
     "metadata": {},
     "output_type": "execute_result"
    }
   ],
   "source": [
    "# month-to-month customers are over represented\n",
    "print(df_telco[df_telco.contract_type == 'Month-to-Month'].shape[0]/df_telco.shape[0])\n",
    "print(df_telco[(df_telco.contract_type == 'Month-to-Month') & (df_telco.has_churned)].shape[0]/df_telco[df_telco.has_churned].shape[0])\n",
    "# month-to-month customers are over represented\n",
    "df_telco.groupby('has_churned').contract_type.value_counts()"
   ]
  },
  {
   "cell_type": "code",
   "execution_count": 37,
   "id": "be0354fe",
   "metadata": {},
   "outputs": [
    {
     "data": {
      "text/plain": [
       "partner  has_churned\n",
       "No       False          2442\n",
       "         True           1200\n",
       "Yes      False          2737\n",
       "         True            670\n",
       "Name: has_churned, dtype: int64"
      ]
     },
     "execution_count": 37,
     "metadata": {},
     "output_type": "execute_result"
    }
   ],
   "source": [
    "df_telco.groupby('partner').has_churned.value_counts()\n"
   ]
  },
  {
   "cell_type": "code",
   "execution_count": 38,
   "id": "39fc3033",
   "metadata": {},
   "outputs": [
    {
     "data": {
      "text/plain": [
       "dependents  has_churned\n",
       "No          False          3391\n",
       "            True           1543\n",
       "Yes         False          1788\n",
       "            True            327\n",
       "Name: has_churned, dtype: int64"
      ]
     },
     "execution_count": 38,
     "metadata": {},
     "output_type": "execute_result"
    }
   ],
   "source": [
    "df_telco.groupby('dependents').has_churned.value_counts()"
   ]
  },
  {
   "cell_type": "code",
   "execution_count": 39,
   "id": "a3a5ecac",
   "metadata": {},
   "outputs": [
    {
     "data": {
      "text/plain": [
       "is_senior_bool  has_churned\n",
       "False           False          4513\n",
       "                True           1394\n",
       "True            False           666\n",
       "                True            476\n",
       "Name: has_churned, dtype: int64"
      ]
     },
     "execution_count": 39,
     "metadata": {},
     "output_type": "execute_result"
    }
   ],
   "source": [
    "df_telco.groupby('is_senior_bool').has_churned.value_counts()"
   ]
  },
  {
   "cell_type": "code",
   "execution_count": 21,
   "id": "68df99a0",
   "metadata": {},
   "outputs": [
    {
     "data": {
      "text/html": [
       "<div>\n",
       "<style scoped>\n",
       "    .dataframe tbody tr th:only-of-type {\n",
       "        vertical-align: middle;\n",
       "    }\n",
       "\n",
       "    .dataframe tbody tr th {\n",
       "        vertical-align: top;\n",
       "    }\n",
       "\n",
       "    .dataframe thead th {\n",
       "        text-align: right;\n",
       "    }\n",
       "</style>\n",
       "<table border=\"1\" class=\"dataframe\">\n",
       "  <thead>\n",
       "    <tr style=\"text-align: right;\">\n",
       "      <th></th>\n",
       "      <th>is_senior_citizen</th>\n",
       "      <th>monthly_charges</th>\n",
       "      <th>total_charges</th>\n",
       "      <th>tenure</th>\n",
       "    </tr>\n",
       "  </thead>\n",
       "  <tbody>\n",
       "    <tr>\n",
       "      <th>count</th>\n",
       "      <td>1656.000000</td>\n",
       "      <td>1656.000000</td>\n",
       "      <td>1656.000000</td>\n",
       "      <td>1656.000000</td>\n",
       "    </tr>\n",
       "    <tr>\n",
       "      <th>mean</th>\n",
       "      <td>0.266304</td>\n",
       "      <td>72.993720</td>\n",
       "      <td>1163.775815</td>\n",
       "      <td>14.000845</td>\n",
       "    </tr>\n",
       "    <tr>\n",
       "      <th>std</th>\n",
       "      <td>0.442159</td>\n",
       "      <td>24.099529</td>\n",
       "      <td>1481.461332</td>\n",
       "      <td>15.860817</td>\n",
       "    </tr>\n",
       "    <tr>\n",
       "      <th>min</th>\n",
       "      <td>0.000000</td>\n",
       "      <td>18.850000</td>\n",
       "      <td>18.850000</td>\n",
       "      <td>1.000000</td>\n",
       "    </tr>\n",
       "    <tr>\n",
       "      <th>25%</th>\n",
       "      <td>0.000000</td>\n",
       "      <td>55.187500</td>\n",
       "      <td>93.962500</td>\n",
       "      <td>1.900000</td>\n",
       "    </tr>\n",
       "    <tr>\n",
       "      <th>50%</th>\n",
       "      <td>0.000000</td>\n",
       "      <td>79.025000</td>\n",
       "      <td>513.225000</td>\n",
       "      <td>7.400000</td>\n",
       "    </tr>\n",
       "    <tr>\n",
       "      <th>75%</th>\n",
       "      <td>1.000000</td>\n",
       "      <td>90.862500</td>\n",
       "      <td>1644.475000</td>\n",
       "      <td>21.125000</td>\n",
       "    </tr>\n",
       "    <tr>\n",
       "      <th>max</th>\n",
       "      <td>1.000000</td>\n",
       "      <td>117.450000</td>\n",
       "      <td>7548.100000</td>\n",
       "      <td>71.800000</td>\n",
       "    </tr>\n",
       "  </tbody>\n",
       "</table>\n",
       "</div>"
      ],
      "text/plain": [
       "       is_senior_citizen  monthly_charges  total_charges       tenure\n",
       "count        1656.000000      1656.000000    1656.000000  1656.000000\n",
       "mean            0.266304        72.993720    1163.775815    14.000845\n",
       "std             0.442159        24.099529    1481.461332    15.860817\n",
       "min             0.000000        18.850000      18.850000     1.000000\n",
       "25%             0.000000        55.187500      93.962500     1.900000\n",
       "50%             0.000000        79.025000     513.225000     7.400000\n",
       "75%             1.000000        90.862500    1644.475000    21.125000\n",
       "max             1.000000       117.450000    7548.100000    71.800000"
      ]
     },
     "execution_count": 21,
     "metadata": {},
     "output_type": "execute_result"
    }
   ],
   "source": [
    "df_telco[(df_telco.contract_type == 'Month-to-Month') & (df_telco.has_churned)].describe()"
   ]
  },
  {
   "cell_type": "code",
   "execution_count": null,
   "id": "d432f211",
   "metadata": {},
   "outputs": [],
   "source": []
  }
 ],
 "metadata": {
  "kernelspec": {
   "display_name": "Python 3 (ipykernel)",
   "language": "python",
   "name": "python3"
  },
  "language_info": {
   "codemirror_mode": {
    "name": "ipython",
    "version": 3
   },
   "file_extension": ".py",
   "mimetype": "text/x-python",
   "name": "python",
   "nbconvert_exporter": "python",
   "pygments_lexer": "ipython3",
   "version": "3.9.7"
  }
 },
 "nbformat": 4,
 "nbformat_minor": 5
}
